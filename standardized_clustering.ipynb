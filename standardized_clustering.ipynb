{
 "cells": [
  {
   "cell_type": "code",
   "execution_count": 1,
   "metadata": {},
   "outputs": [],
   "source": [
    "# TO-DO\n",
    "\n",
    "# 1 Double check algorithms!\n",
    "# 2 Double check index value calculators! (DB-index especially!!)\n",
    "# 3 SCALE INPUT VARIABLES ??\n",
    "\n",
    "\n",
    "# 3 TROUBLESHOOT ERRORS! XX\n",
    "# 4 CENTROID CALCULATOR FUNCTION FOR MST XX"
   ]
  },
  {
   "cell_type": "code",
   "execution_count": 2,
   "metadata": {},
   "outputs": [],
   "source": [
    "# Import some modules which we will use later\n",
    "\n",
    "import numpy as np\n",
    "import pandas as pd\n",
    "import matplotlib.pyplot as plt\n",
    "import math\n",
    "import copy\n",
    "\n",
    "\n",
    "%matplotlib inline"
   ]
  },
  {
   "cell_type": "markdown",
   "metadata": {},
   "source": [
    "## Functions"
   ]
  },
  {
   "cell_type": "code",
   "execution_count": 40,
   "metadata": {},
   "outputs": [],
   "source": [
    "# Define custom function\n",
    "\n",
    "## Basic functions for all algorithms\n",
    "\n",
    "def euclidean_dist(x,y):\n",
    "    \"\"\"Calculates Euclidean distance between 2 n-dimensional vectors\"\"\"\n",
    "    temp = x-y\n",
    "    temp_2 = temp**2\n",
    "    temp_sum = sum(temp_2)\n",
    "    temp_sqrt = math.sqrt(temp_sum)\n",
    "    \n",
    "    return temp_sqrt\n",
    "\n",
    "def benchmark_data_generation(n,p,K,std):\n",
    "    \"\"\"Generates benchmak data for clustering\"\"\"\n",
    "\n",
    "    from sklearn.datasets.samples_generator import make_blobs\n",
    "    X, y = make_blobs(n_samples=n, centers=K, n_features = p,\n",
    "                  random_state=0, cluster_std=std)\n",
    "    \n",
    "    return X, y\n",
    "\n",
    "## Functions for the MST algorithm\n",
    "\n",
    "def adjacency_matrix(X):\n",
    "    \"\"\"Calculates distance matrix of input data points\"\"\"\n",
    "    n = X.shape[0]\n",
    "    dist_matrix = np.zeros((n, n))\n",
    "    for i in range(0,n):\n",
    "        for j in range(i+1,n):\n",
    "            dist_matrix[i,j]=euclidean_dist(np.array(X.iloc[i,]),np.array(X.iloc[j,]))\n",
    "            \n",
    "    return dist_matrix\n",
    "\n",
    "\n",
    "def edge_vector(dist_matrix):\n",
    "    \"\"\"Creates list of edges/vertices with the corresponding distance\"\"\"\n",
    "    n=len(dist_matrix)\n",
    "    n_rows = int(n*(n-1)*(0.5))\n",
    "    edge_dist = np.zeros((n_rows, 3))\n",
    "    \n",
    "    counter = 0\n",
    "    \n",
    "    for i in range(0,n):\n",
    "        for j in range(i+1,n):\n",
    "            \n",
    "            edge_dist[counter,0] = i\n",
    "            edge_dist[counter,1] = j\n",
    "            edge_dist[counter,2] = dist_matrix[i,j]\n",
    "            counter += 1\n",
    "            \n",
    "    return edge_dist\n",
    "\n",
    "def edge_sorting(edge_vector):\n",
    "    \"\"\"Sorts the list of edges/distances\"\"\"\n",
    "    sorted_matrix = edge_vector[edge_vector[:, -1].argsort()]\n",
    "    \n",
    "    return sorted_matrix\n",
    "\n",
    "\n",
    "## Functions for MST/Kruskal algorithm\n",
    "def mst_cluster(X, k, d):\n",
    "    X = pd.DataFrame(X)\n",
    "    #print(\"Shape of X: {}\".format(X.shape))\n",
    "    matrix = adjacency_matrix(X)\n",
    "    vector = edge_vector(matrix)\n",
    "    sorted_vector = edge_sorting(vector)\n",
    "    #print(\"Shape of sorted_vector: {}\".format(sorted_vector.shape))\n",
    "\n",
    "\n",
    "    i = 0\n",
    "    #initialize 1 cluster for each point\n",
    "    points_set = X.join(pd.DataFrame(np.arange(0,len(X)), columns=['Cluster']))\n",
    "    #print(\"Shape of point_set: {}\".format(points_set.shape))\n",
    "    #set stopping point\n",
    "    while points_set['Cluster'].nunique() > k:\n",
    "        #start from firs row or sorted vector, get nodes\n",
    "        node1 = sorted_vector[i][0].astype('int')\n",
    "        node2 = sorted_vector[i][1].astype('int')\n",
    "        #identify to which cluster each point belongs\n",
    "        cluster1 = points_set.iloc[node1,d]\n",
    "        cluster2 = points_set.iloc[node2,d]\n",
    "        #cluster1 = points_set.iloc[node1,2]\n",
    "        #cluster2 = points_set.iloc[node2,2]\n",
    "        #if they are from the same cluster already, no connection can be made to avoid cycle\n",
    "        if cluster1 != cluster2:\n",
    "            # if they are different, the smaller cluster label will be given to the larger\n",
    "            if cluster1 < cluster2:\n",
    "                #points_set.iloc[node2,2] = cluster1\n",
    "                points_set.iloc[node2,d] = cluster1\n",
    "            else:\n",
    "                #points_set.iloc[node1,2] = cluster2\n",
    "                points_set.iloc[node1,d] = cluster2\n",
    "        i = i +1\n",
    "        \n",
    "    #points_set.drop(columns=[0,1])\n",
    "    col_list = list(np.arange(0,d,1))\n",
    "    #print(col_list)\n",
    "    points_set.drop(columns=col_list)\n",
    "    points_set['point_index'] = points_set.index\n",
    "    points_set = points_set[['point_index', 'Cluster']]\n",
    "    points_set = np.array(points_set)\n",
    "    return points_set\n",
    "\n",
    "\n",
    "def centroid_calc_for_mst(K,d,result,X):\n",
    "    \"\"\"Calculates the centroids of the clusters\n",
    "    found by the MST method\"\"\"\n",
    "    \n",
    "    # Get current unique labels\n",
    "    uniques = pd.DataFrame(result).iloc[:,1]\n",
    "    uniques = uniques.unique()\n",
    "    \n",
    "    # Loop over the clusters table and assign cluster names\n",
    "    # going from 0-15 (basically just renaming clusters for convenience)\n",
    "    for i in range(0,len(result)):\n",
    "        # Getting the current cluster label\n",
    "        index = int(result[i,1]) \n",
    "        # Searching the current cluster label in the list of unique labels\n",
    "        unique_places = np.array([i==index for i in uniques])\n",
    "\n",
    "        # Assign the relative location of the current label to the range of 0-15\n",
    "        temp = np.where(unique_places)[0]\n",
    "        result[i,1] = temp\n",
    "\n",
    "    # Initialize the centroids to be 0\n",
    "    centroids2 = np.zeros((K, d))\n",
    "\n",
    "    for i in range(0,K):\n",
    "                # Filter for points in the given cluster\n",
    "                temp_table2 = result[result[:,1]==i]\n",
    "\n",
    "                # Calculating new centroids\n",
    "                temp_array = np.zeros((len(temp_table2),d))\n",
    "                counter = 0\n",
    "                \n",
    "\n",
    "\n",
    "                for j in temp_table2[:,0]:\n",
    " \n",
    "                    temp_array[counter,:] = X[j,:]\n",
    "                    counter += 1\n",
    "\n",
    "                # Assign the new centroids - coordinate-wise mean of points in the cluster\n",
    "                centroids2[i,:] = np.mean(temp_array, axis=0)\n",
    "\n",
    "    return centroids2\n",
    "\n",
    "## Functions for the k-means algorithms\n",
    "\n",
    "def k_means_clustering(K,X):\n",
    "    n = X.shape[0] # Number of observations\n",
    "    d = X.shape[1] # dimensions\n",
    "    X = np.array(X) # Convert pandas dataframe to numpy array\n",
    "\n",
    "    # STEP 0\n",
    "    # Get initial starting points\n",
    "    initial_indices = np.random.randint(0,high=n,size=K) # Initial indices\n",
    "    print(initial_indices)\n",
    "\n",
    "    centroids = np.zeros((K, d))\n",
    "\n",
    "    counter = 0\n",
    "    for i in initial_indices:\n",
    "        centroids[counter,:] = X[i,:]\n",
    "        counter += 1\n",
    "\n",
    "    #print(centroids)\n",
    "\n",
    "    # STEP 1\n",
    "    # Assign points to centroids\n",
    "    cluster_table = np.zeros((n, 2))\n",
    "    cluster_table[:,0] = np.arange(0,n,1)\n",
    "    cluster_table = cluster_table.astype(int)\n",
    "    \n",
    "    \n",
    "    change_tracker = True\n",
    "    \n",
    "    cost_values_db = []\n",
    "    cost_values_dunn = []\n",
    "    # Big loop\n",
    "    while change_tracker:\n",
    "        overall_change = 0\n",
    "        for i in range(0,n):\n",
    "            current_cluster = int(cluster_table[i,1])\n",
    "            #print(current_cluster)\n",
    "            current_dist = euclidean_dist(X[i,],centroids[current_cluster,])\n",
    "            for j in range(0,K):\n",
    "                temp = euclidean_dist(X[i,],centroids[j,])\n",
    "                if temp<current_dist:\n",
    "                    cluster_table[i,1]=j\n",
    "                    current_dist = temp\n",
    "\n",
    "                    overall_change += 1\n",
    "\n",
    "        if overall_change == 0:\n",
    "            change_tracker = False\n",
    "\n",
    "        # STEP 2\n",
    "        # Recalculate centroids\n",
    "        #print(cluster_table)\n",
    "\n",
    "        # Filter observations\n",
    "        temp_table = cluster_table[cluster_table[:,1]==0]\n",
    "        #print(temp_table)\n",
    "\n",
    "        for i in range(0,K):\n",
    "            # Filter for points in the given cluster\n",
    "            temp_table2 = cluster_table[cluster_table[:,1]==i]\n",
    "\n",
    "            # Calculating new centroids\n",
    "            temp_array = np.zeros((len(temp_table2),d))\n",
    "            counter = 0\n",
    "\n",
    "            for j in temp_table2[:,0]:\n",
    "                temp_array[counter,:] = X[j,:]\n",
    "                counter += 1\n",
    "\n",
    "            # Assign the new centroids\n",
    "            centroids[i,:] = np.mean(temp_array, axis=0)\n",
    "            \n",
    "        cost_values_db.append(DB_index(X,centroids,cluster_table))\n",
    "        cost_values_dunn.append(dunn_index(X,centroids,cluster_table))\n",
    "            \n",
    "    return centroids,cluster_table,cost_values_db,cost_values_dunn\n",
    "\n",
    "## Functions for the Davies-Boulding-index\n",
    "\n",
    "# Within cluster distances\n",
    "def within_cluster_dist(X,centroids,cluster_table):\n",
    "    sums = []\n",
    "    for i in range(0,len(centroids)):\n",
    "        temp = cluster_table[cluster_table[:,1]==i]\n",
    "        temp_sum = 0\n",
    "        if len(temp)!=0:\n",
    "            for j in range(0,len(temp)):\n",
    "                index = int(temp[j,0])\n",
    "                #current_dist = euclidean_dist(X[index,],centroids[i,])\n",
    "                current_dist = euclidean_dist(X[index,:],centroids[i,:])\n",
    "                temp_sum += current_dist\n",
    "\n",
    "            temp_sum = math.sqrt(temp_sum/len(temp))\n",
    "\n",
    "        sums.append(temp_sum)\n",
    "        \n",
    "    return sums\n",
    "\n",
    "# Cluster separation\n",
    "def cluster_separation(centroids):\n",
    "    combinations = int(len(centroids)*(len(centroids)-1)/2)\n",
    "    #print(combinations)\n",
    "    separations = np.zeros((combinations,3))\n",
    "    #print(separations)\n",
    "\n",
    "    counter = 0\n",
    "    for i in range(0, len(centroids)):\n",
    "        for j in range(i+1, len(centroids)):\n",
    "            separations[counter,0] = i\n",
    "            separations[counter,1] = j\n",
    "            separations[counter,2] = euclidean_dist(centroids[i,],centroids[j,])\n",
    "\n",
    "            counter += 1\n",
    "            \n",
    "    return separations\n",
    "\n",
    "# Calculates Davies-Bouldien index\n",
    "def DB_index(X,centroids,cluster_table):\n",
    "    sums = within_cluster_dist(X,centroids,cluster_table)\n",
    "    separations = cluster_separation(centroids)\n",
    "\n",
    "\n",
    "    r_s = separations.copy()\n",
    "    for i in range(0, len(r_s)):\n",
    "        index_1 = int(r_s[i,0])\n",
    "        index_2 = int(r_s[i,1])\n",
    "        r_s[i,2] = (sums[index_1]+sums[index_2])/separations[i,2]\n",
    "\n",
    "    d = []\n",
    "    for j in range(0,len(centroids)):\n",
    "\n",
    "        if j==0:\n",
    "            temp1 = r_s[r_s[:,0]==j]\n",
    "            max1 = max(temp1[:,2])\n",
    "            d.append(max1)\n",
    "        elif j==len(centroids)-1:\n",
    "            temp2 = r_s[r_s[:,1]==j]\n",
    "            max2 = max(temp2[:,2])\n",
    "            d.append(max2)\n",
    "        else:\n",
    "            temp1 = r_s[r_s[:,0]==j]\n",
    "            max1 = max(temp1[:,2])\n",
    "            temp2 = r_s[r_s[:,1]==j]\n",
    "            max2 = max(temp2[:,2])\n",
    "            final_max = max(max1,max2)\n",
    "            d.append(final_max)\n",
    "            \n",
    "    DB_index_val = sum(d)/len(centroids)\n",
    "    \n",
    "    return DB_index_val\n",
    "\n",
    "\n",
    "## Functions for the Dunn-index\n",
    "def max_within_distances(X,centroids,cluster_table):\n",
    "\n",
    "    max_within_distances = []\n",
    "    for k in range(0,len(centroids)):\n",
    "        temp_table = cluster_table[cluster_table[:,1]==k]\n",
    "        temp_max = 0\n",
    "        for i in range(0,len(temp_table)):\n",
    "            for j in range(i+1,len(temp_table)):\n",
    "                index_1 = temp_table[i,0]\n",
    "                index_2 = temp_table[j,0]\n",
    "                current_value = euclidean_dist(X[index_1,],X[index_2,])\n",
    "                if current_value>temp_max:\n",
    "                    temp_max = current_value\n",
    "\n",
    "        max_within_distances.append(temp_max)\n",
    "        \n",
    "    return max_within_distances\n",
    "\n",
    "\n",
    "def min_between_distances(X,centroids,cluster_table):\n",
    "\n",
    "    combinations = int(len(centroids)*(len(centroids)-1)/2)\n",
    "    separations = np.zeros((combinations,3))\n",
    "\n",
    "    counter = 0\n",
    "    for i in range(0, len(centroids)):\n",
    "        for j in range(i+1, len(centroids)):\n",
    "            separations[counter,0] = i\n",
    "            separations[counter,1] = j\n",
    "\n",
    "            temp_table1 = cluster_table[cluster_table[:,1]==i]\n",
    "            temp_table2 = cluster_table[cluster_table[:,1]==j]\n",
    "            \n",
    "            if len(temp_table1)>0 and len(temp_table2)>0:\n",
    "                index_1 = temp_table1[0,0]\n",
    "                index_2 = temp_table2[0,0]\n",
    "                temp_min = euclidean_dist(X[index_1,],X[index_2,])\n",
    "            else:\n",
    "                temp_min = 1000\n",
    "                \n",
    "            for l in range(0,len(temp_table1)):\n",
    "                for h in range(0,len(temp_table2)):\n",
    "                    index_1 = temp_table1[l,0]\n",
    "                    index_2 = temp_table2[h,0]\n",
    "                    current_value = euclidean_dist(X[index_1,],X[index_2,])\n",
    "                    if current_value<temp_min:\n",
    "                        temp_min = current_value\n",
    "\n",
    "\n",
    "\n",
    "            separations[counter,2] = temp_min\n",
    "\n",
    "            counter += 1\n",
    "            \n",
    "    return separations\n",
    "\n",
    "def dunn_index(X,centroids,cluster_table):\n",
    "    separations_temp = min_between_distances(X,centroids,cluster_table)\n",
    "    max_within_distances_temp = max_within_distances(X,centroids,cluster_table)\n",
    "    \n",
    "    result = min(separations_temp[:,2])/max(max_within_distances_temp)\n",
    "    \n",
    "    return result\n",
    "\n",
    "\n",
    "### Function for checking indexes, effects of different parameter values\n",
    "\n",
    "## Hyperparameter optimization functions for MST\n",
    "def mst_index_params(X,n=300,p=2,K_true=3,std=0.9,K_hat=5, d=5):\n",
    "    #X, y = benchmark_data_generation(n=n,p=p,K=K_true,std = std)\n",
    "    result = mst_cluster(X,k = K_hat,d=d)\n",
    "    mst_centroids = centroid_calc_for_mst(K=K_hat,d=d,result=result,X=X)\n",
    "    db_final = DB_index(X,mst_centroids,result)\n",
    "    dunn_final = dunn_index(X,mst_centroids,result)\n",
    "    \n",
    "    return db_final,dunn_final\n",
    "\n",
    "def mst_index_params_plotter(param,start_value,end_value,X):\n",
    "    dbs=[]\n",
    "    dunns=[]\n",
    "    integers = ['n','p','K_true','K_hat']\n",
    "    floats = ['std']\n",
    "    \n",
    "    if param in integers:\n",
    "        iterators = np.arange(start_value,end_value,1)\n",
    "    else:\n",
    "        iterators = np.arange(start_value,end_value,0.1)\n",
    "        \n",
    "    for i in iterators:\n",
    "\n",
    "        temp_dict = {str(param) : i}\n",
    "        #print(temp_dict)\n",
    "\n",
    "        db_final,dunn_final = mst_index_params(**temp_dict,X=X)\n",
    "        \n",
    "        dbs.append(db_final)\n",
    "        dunns.append(dunn_final)\n",
    "\n",
    "    plt.plot(iterators,dbs)\n",
    "    plt.plot(iterators,dunns)\n",
    "    plt.legend(['DB-index','Dunn-index'])\n",
    "    plt.title(\"Index values of the final K-means clustering as a function of: {}\".format(param))\n",
    "    plt.show()\n",
    "    \n",
    "\n",
    "## Hyperparameter optimization functions for K-means\n",
    "def index_params(X,n=300,p=2,K_true=3,std=0.9,K_hat=5):\n",
    "    #X, y = benchmark_data_generation(n=n,p=p,K=K_true,std = std)\n",
    "    centroids, cluster_table, cost_values_db, cost_values_dunn = k_means_clustering(K_hat,X)\n",
    "    db_final = cost_values_db[-1]\n",
    "    dunn_final = cost_values_dunn[-1]\n",
    "    \n",
    "    return db_final,dunn_final\n",
    "    \n",
    "def index_params_plotter(param,start_value,end_value,X):\n",
    "    dbs=[]\n",
    "    dunns=[]\n",
    "    integers = ['n','p','K_true','K_hat']\n",
    "    floats = ['std']\n",
    "    \n",
    "    if param in integers:\n",
    "        iterators = np.arange(start_value,end_value,1)\n",
    "    else:\n",
    "        iterators = np.arange(start_value,end_value,0.1)\n",
    "        \n",
    "    for i in iterators:\n",
    "        #a = str(param)+'='+str(i)\n",
    "        #print(type(a))\n",
    "        temp_dict = {str(param) : i}\n",
    "        #print(temp_dict)\n",
    "        #db_final,dunn_final = index_params(param=i)\n",
    "        db_final,dunn_final = index_params(**temp_dict,X=X)\n",
    "        # Use dictionary instead!!\n",
    "        #db_final,dunn_final = index_params(K_hat=i)\n",
    "        dbs.append(db_final)\n",
    "        dunns.append(dunn_final)\n",
    "\n",
    "    plt.plot(iterators,dbs)\n",
    "    plt.plot(iterators,dunns)\n",
    "    plt.legend(['DB-index','Dunn-index'])\n",
    "    plt.title(\"Index values of the final K-means clustering as a function of: {}\".format(param))\n",
    "    plt.show()"
   ]
  },
  {
   "cell_type": "markdown",
   "metadata": {},
   "source": [
    "## Testing"
   ]
  },
  {
   "cell_type": "code",
   "execution_count": 5,
   "metadata": {},
   "outputs": [],
   "source": [
    "X, y = benchmark_data_generation(n=60,p=5,K=3,std = 0.9)"
   ]
  },
  {
   "cell_type": "code",
   "execution_count": 6,
   "metadata": {},
   "outputs": [
    {
     "name": "stdout",
     "output_type": "stream",
     "text": [
      "[15 53 57]\n",
      "[[ 2.64166281 -1.11453316  7.7955637   9.14522256 -2.41926326]\n",
      " [ 5.86631091  0.77668801  1.33093176  8.28761671 -8.51482138]\n",
      " [ 1.05008999  4.19206368  2.20015647  1.00120897 -1.42629893]]\n",
      "[0.35232965323108667, 0.2699182758201643, 0.2699182758201643]\n"
     ]
    },
    {
     "data": {
      "image/png": "[encoded data removed]",
      "text/plain": [
       "<Figure size 432x288 with 1 Axes>"
      ]
     },
     "metadata": {
      "needs_background": "light"
     },
     "output_type": "display_data"
    },
    {
     "name": "stdout",
     "output_type": "stream",
     "text": [
      "1.1916532768893362\n"
     ]
    }
   ],
   "source": [
    "centroids, cluster_table, cost_values_db, cost_values_dunn = k_means_clustering(3,X)\n",
    "print(centroids)\n",
    "#print(cluster_table)\n",
    "print(cost_values_db)\n",
    "plt.plot(cost_values_db)\n",
    "plt.plot(cost_values_dunn)\n",
    "plt.legend(['DB-index','Dunn-index'])\n",
    "plt.title(\"Index values in consecutive iterations of the K-means algorithm\")\n",
    "plt.show()\n",
    "\n",
    "print(cost_values_dunn[-1])"
   ]
  },
  {
   "cell_type": "code",
   "execution_count": 7,
   "metadata": {
    "scrolled": true
   },
   "outputs": [
    {
     "data": {
      "image/png": "[encoded data removed]",
      "text/plain": [
       "<Figure size 432x288 with 1 Axes>"
      ]
     },
     "metadata": {
      "needs_background": "light"
     },
     "output_type": "display_data"
    },
    {
     "data": {
      "image/png": "[encoded data removed]",
      "text/plain": [
       "<Figure size 432x288 with 1 Axes>"
      ]
     },
     "metadata": {
      "needs_background": "light"
     },
     "output_type": "display_data"
    }
   ],
   "source": [
    "# Scatter plot - ORIGINAL\n",
    "fig,ax = plt.subplots()\n",
    "plt.axes().set_aspect('equal')\n",
    "scatter=plt.scatter(X[:, 0], X[:, 1], c=y, s=50 , cmap='rainbow');\n",
    "# produce a legend with the unique colors from the scatter\n",
    "legend1 = plt.legend(*scatter.legend_elements(),\n",
    "                    loc=\"upper right\", title=\"True classes\")\n",
    "plt.show()\n",
    "\n",
    "# Scatter plot - K-MEANS\n",
    "fig,ax = plt.subplots()\n",
    "plt.axes().set_aspect('equal')\n",
    "scatter=plt.scatter(X[:, 0], X[:, 1], c=cluster_table[:,1], s=50 , cmap='rainbow');\n",
    "# produce a legend with the unique colors from the scatter\n",
    "legend1 = plt.legend(*scatter.legend_elements(),\n",
    "                    loc=\"upper right\", title=\"Assigned classes\")\n",
    "plt.show()"
   ]
  },
  {
   "cell_type": "markdown",
   "metadata": {},
   "source": [
    "## Testing with the real benchmark data"
   ]
  },
  {
   "cell_type": "markdown",
   "metadata": {},
   "source": [
    "## Testing with 2-dimensional data (Synthetic)"
   ]
  },
  {
   "cell_type": "markdown",
   "metadata": {},
   "source": [
    "#### Reading in data"
   ]
  },
  {
   "cell_type": "code",
   "execution_count": 13,
   "metadata": {
    "scrolled": true
   },
   "outputs": [
    {
     "name": "stdout",
     "output_type": "stream",
     "text": [
      "5000\n",
      "5000\n",
      "(5000, 2)\n",
      "[[664159 550946]\n",
      " [665845 557965]\n",
      " [597173 575538]\n",
      " ...\n",
      " [650661 861267]\n",
      " [599647 858702]\n",
      " [684091 842566]]\n"
     ]
    }
   ],
   "source": [
    "## Read in the data\n",
    "synthetic = open(\"./Data/Synthetic.rtf\").read()\n",
    "\n",
    "## Transform the data into the format that our functions use\n",
    "\n",
    "# Deleting the unnecessary parts of the text,\n",
    "# which do not contain values\n",
    "synthetic = synthetic[395:]\n",
    "synthetic = synthetic.split(\"\\\\\")\n",
    "\n",
    "# Clean string values\n",
    "synthetic = [w.replace('\\n', '') for w in synthetic]\n",
    "synthetic = [w.replace(' ', '') for w in synthetic]\n",
    "synthetic = synthetic[:-1]\n",
    "\n",
    "# Turn the strings into integer variables\n",
    "synthetic_col1 = [int(w[:6]) for w in synthetic]\n",
    "synthetic_col2 = [int(w[6:]) for w in synthetic]\n",
    "\n",
    "# Check the length of the lists to see if method worked\n",
    "print(len(synthetic_col1))\n",
    "print(len(synthetic_col2))\n",
    "\n",
    "# Convert the lists into numpy arrays and\n",
    "synthetic = np.asarray((synthetic_col1,synthetic_col2))\n",
    "synthetic = synthetic.T\n",
    "\n",
    "\n",
    "\n",
    "print(synthetic.shape)\n",
    "print(synthetic)"
   ]
  },
  {
   "cell_type": "code",
   "execution_count": 14,
   "metadata": {},
   "outputs": [
    {
     "name": "stdout",
     "output_type": "stream",
     "text": [
      "0\n",
      "[664159 665845 597173 ... 650661 599647 684091]\n",
      "521210.1086\n"
     ]
    },
    {
     "data": {
      "image/png": "[encoded data removed]",
      "text/plain": [
       "<Figure size 432x288 with 1 Axes>"
      ]
     },
     "metadata": {
      "needs_background": "light"
     },
     "output_type": "display_data"
    },
    {
     "name": "stdout",
     "output_type": "stream",
     "text": [
      "1\n",
      "[550946 557965 575538 ... 861267 858702 842566]\n",
      "490189.2928\n"
     ]
    },
    {
     "data": {
      "image/png": "[encoded data removed]",
      "text/plain": [
       "<Figure size 432x288 with 1 Axes>"
      ]
     },
     "metadata": {
      "needs_background": "light"
     },
     "output_type": "display_data"
    }
   ],
   "source": [
    "## Standardizing the data\n",
    "for i in range(0,synthetic.shape[1]):\n",
    "    \n",
    "    temp_mean = np.mean(synthetic[:,i])\n",
    "    synthetic[:,i] = synthetic[:,i] -  temp_mean\n",
    "    \n",
    "    temp_std = np.std(synthetic[:,i])\n",
    "    synthetic[:,i] = synthetic[:,i]/temp_std\n",
    "    \n",
    "    plt.hist(synthetic[:,i])\n",
    "    plt.show()"
   ]
  },
  {
   "cell_type": "markdown",
   "metadata": {},
   "source": [
    "### K-means method"
   ]
  },
  {
   "cell_type": "markdown",
   "metadata": {},
   "source": [
    "#### Running the K-means algorithm"
   ]
  },
  {
   "cell_type": "code",
   "execution_count": 4,
   "metadata": {},
   "outputs": [
    {
     "name": "stdout",
     "output_type": "stream",
     "text": [
      "[383 522 601 391 142 864 574 577 592 184 814 109 441   8  26]\n"
     ]
    }
   ],
   "source": [
    "X = synthetic[:1000,:]\n",
    "centroids, cluster_table, cost_values_db, cost_values_dunn = k_means_clustering(15,X)"
   ]
  },
  {
   "cell_type": "markdown",
   "metadata": {},
   "source": [
    "#### Calculating index values"
   ]
  },
  {
   "cell_type": "code",
   "execution_count": 5,
   "metadata": {},
   "outputs": [
    {
     "data": {
      "image/png": "[encoded data removed]",
      "text/plain": [
       "<Figure size 432x288 with 1 Axes>"
      ]
     },
     "metadata": {
      "needs_background": "light"
     },
     "output_type": "display_data"
    }
   ],
   "source": [
    "#print(centroids)\n",
    "#print(cluster_table)\n",
    "#print(cost_values_db)\n",
    "plt.plot(cost_values_db)\n",
    "plt.plot(cost_values_dunn)\n",
    "plt.legend(['DB-index','Dunn-index'])\n",
    "plt.title(\"Index values in consecutive iterations of the K-means algorithm\")\n",
    "plt.show()\n",
    "\n",
    "#print(cost_values_dunn[-1])"
   ]
  },
  {
   "cell_type": "markdown",
   "metadata": {},
   "source": [
    "#### Visualizing the clusters"
   ]
  },
  {
   "cell_type": "code",
   "execution_count": 6,
   "metadata": {
    "scrolled": true
   },
   "outputs": [
    {
     "data": {
      "image/png": "[encoded data removed]",
      "text/plain": [
       "<Figure size 720x720 with 1 Axes>"
      ]
     },
     "metadata": {
      "needs_background": "light"
     },
     "output_type": "display_data"
    }
   ],
   "source": [
    "# Scatter plot - K-MEANS\n",
    "fig,ax = plt.subplots(figsize=(10,10))\n",
    "plt.axes().set_aspect('equal')\n",
    "\n",
    "scatter=plt.scatter(X[:, 0], X[:, 1], c=cluster_table[:,1], s=10 , cmap='rainbow');\n",
    "\n",
    "# Produce a legend with the unique colors for each cluster\n",
    "legend1 = plt.legend(*scatter.legend_elements(),\n",
    "                     fontsize = 'small',\n",
    "                    loc=\"upper right\", title=\"Clusters\")\n",
    "\n",
    "\n",
    "plt.show()"
   ]
  },
  {
   "cell_type": "code",
   "execution_count": 7,
   "metadata": {},
   "outputs": [
    {
     "data": {
      "text/plain": [
       "array([ 0,  1,  2,  3,  4,  5,  6,  7,  8,  9, 10, 11, 12, 13, 14])"
      ]
     },
     "execution_count": 7,
     "metadata": {},
     "output_type": "execute_result"
    }
   ],
   "source": [
    "# Sanity-check for the clusters\n",
    "\n",
    "c=cluster_table[:,1]\n",
    "np.unique(c)"
   ]
  },
  {
   "cell_type": "markdown",
   "metadata": {},
   "source": [
    "### Minimum Spanning Tree clustering"
   ]
  },
  {
   "cell_type": "markdown",
   "metadata": {},
   "source": [
    "#### Running the Kruskal-algorithm"
   ]
  },
  {
   "cell_type": "code",
   "execution_count": 10,
   "metadata": {},
   "outputs": [
    {
     "name": "stdout",
     "output_type": "stream",
     "text": [
      "Shape of X: (1000, 2)\n",
      "Shape of sorted_vector: (499500, 3)\n",
      "Shape of point_set: (1000, 3)\n",
      "[0, 1]\n"
     ]
    }
   ],
   "source": [
    "result = mst_cluster(X,k=15,d=2)"
   ]
  },
  {
   "cell_type": "markdown",
   "metadata": {},
   "source": [
    "#### Calculating index values"
   ]
  },
  {
   "cell_type": "code",
   "execution_count": 15,
   "metadata": {},
   "outputs": [
    {
     "name": "stdout",
     "output_type": "stream",
     "text": [
      "[[605803.66438356 573636.93150685]\n",
      " [526559.         509417.        ]\n",
      " [635586.5        660311.5       ]\n",
      " [712648.         607541.        ]\n",
      " [657985.         453405.        ]\n",
      " [695646.         652231.        ]\n",
      " [563460.         480559.        ]\n",
      " [659529.         498474.        ]\n",
      " [802415.36305732 319999.76751592]\n",
      " [874492.5        481861.        ]\n",
      " [418317.90705128 787462.96474359]\n",
      " [336958.5        715090.5       ]\n",
      " [822965.07575758 733563.45454545]\n",
      " [853112.5        658238.5       ]\n",
      " [828533.5        653917.5       ]]\n"
     ]
    }
   ],
   "source": [
    "mst_centroids = centroid_calc_for_mst(K=15,d=2,result=result,X=X)\n",
    "print(mst_centroids)"
   ]
  },
  {
   "cell_type": "code",
   "execution_count": 28,
   "metadata": {},
   "outputs": [
    {
     "name": "stdout",
     "output_type": "stream",
     "text": [
      "0.0026136763519691254\n",
      "0.03357066989188947\n"
     ]
    }
   ],
   "source": [
    "## Calculate index values for MST\n",
    "db_temp = DB_index(X,mst_centroids,result)\n",
    "dunn_temp = dunn_index(X,mst_centroids,result)\n",
    "\n",
    "print(db_temp)\n",
    "print(dunn_temp)"
   ]
  },
  {
   "cell_type": "code",
   "execution_count": 17,
   "metadata": {},
   "outputs": [
    {
     "name": "stdout",
     "output_type": "stream",
     "text": [
      "0.006281978385699083\n",
      "0.00770452060275991\n"
     ]
    }
   ],
   "source": [
    "# Calculate index values for K-Means\n",
    "print(cost_values_db[-1])\n",
    "print(cost_values_dunn[-1])"
   ]
  },
  {
   "cell_type": "markdown",
   "metadata": {},
   "source": [
    "#### Visualizing the clusters"
   ]
  },
  {
   "cell_type": "code",
   "execution_count": 18,
   "metadata": {
    "scrolled": true
   },
   "outputs": [
    {
     "data": {
      "image/png": "[encoded data removed]",
      "text/plain": [
       "<Figure size 720x720 with 1 Axes>"
      ]
     },
     "metadata": {
      "needs_background": "light"
     },
     "output_type": "display_data"
    }
   ],
   "source": [
    "# Scatter plot - MST/Kruskal\n",
    "fig,ax = plt.subplots(figsize=(10,10))\n",
    "plt.axes().set_aspect('equal')\n",
    "scatter=plt.scatter(X[:, 0], X[:, 1], c=result[:,1], s=10 , cmap='rainbow');\n",
    "# produce a legend with the unique colors from the scatter\n",
    "legend1 = plt.legend(*scatter.legend_elements(),\n",
    "                    loc=\"upper right\", title=\"Clusters\")\n",
    "plt.show()"
   ]
  },
  {
   "cell_type": "markdown",
   "metadata": {},
   "source": [
    "### Comparing index values for K-means and MST"
   ]
  },
  {
   "cell_type": "code",
   "execution_count": null,
   "metadata": {},
   "outputs": [],
   "source": [
    "### Comparing index values\n",
    "\n",
    "## K-means\n",
    "# Calculate index values for K-Means\n",
    "db_kmeans = cost_values_db[-1]\n",
    "dunn_kmeans = cost_values_dunn[-1]\n",
    "\n",
    "## MST\n",
    "# Calculate index values for MST\n",
    "db_mst = DB_index(X,centroids,result)\n",
    "dunn_mst = dunn_index(X,centroids,result)\n",
    "\n",
    "print(\"The DB-index for K-means is {} and for MST it is {}\".format(db_kmeans,db_mst))\n",
    "print(\"The Dunn-index for K-means is {} and for MST it is {}\".format(dunn_kmeans,dunn_mst))"
   ]
  },
  {
   "cell_type": "markdown",
   "metadata": {},
   "source": [
    "### Optimizing over K (number of hypothetical clusters)"
   ]
  },
  {
   "cell_type": "markdown",
   "metadata": {},
   "source": [
    "In this section we check whether our functions can recover that for the Synthetic dataset 15 clusters is the best (best index values). IF this is true, we can have confidence that repeating the same procedure will help us to find the optimal, but a priori unknown number of clusters in the Thyroid dataset."
   ]
  },
  {
   "cell_type": "code",
   "execution_count": 42,
   "metadata": {},
   "outputs": [
    {
     "name": "stdout",
     "output_type": "stream",
     "text": [
      "[658 198 550 443 677 937 781 987 492 720 565 289]\n",
      "[858 113 879 659 383 233 338 868 289 351 480   0 368]\n",
      "[930 203 742 475  93 499 967 295 883 101  87 163 748 677]\n",
      "[ 54 355 615 766 225 122 896  83 649 419 143  66 823  51 595]\n",
      "[162 422 940 181 278 980 496 156 674 582 784 392 290 291 607 611]\n"
     ]
    },
    {
     "data": {
      "image/png": "[encoded data removed]",
      "text/plain": [
       "<Figure size 432x288 with 1 Axes>"
      ]
     },
     "metadata": {
      "needs_background": "light"
     },
     "output_type": "display_data"
    }
   ],
   "source": [
    "index_params_plotter('K_hat',12,17,X)"
   ]
  },
  {
   "cell_type": "markdown",
   "metadata": {},
   "source": [
    "## Testing with 5 dimensional data (Thyroid)"
   ]
  },
  {
   "cell_type": "markdown",
   "metadata": {},
   "source": [
    "#### Reading in data"
   ]
  },
  {
   "cell_type": "code",
   "execution_count": 15,
   "metadata": {
    "scrolled": true
   },
   "outputs": [
    {
     "name": "stdout",
     "output_type": "stream",
     "text": [
      "         0        1        2        3        4\n",
      "0  3195023  3455331  3497964  3068822  3206710\n",
      "1  3651455  3412754  4131996  3248619  3603214\n",
      "2  4716462  4051411  3638860  3150548  2946503\n",
      "3  3347167  2433481  3075276  3150548  3058020\n",
      "4  3042879  2859252  3004828  3166893  2859768\n",
      "(215, 5)\n"
     ]
    }
   ],
   "source": [
    "## Read in the data\n",
    "thyroid = pd.read_csv('./Data/Thyroid_new.csv', header=None)\n",
    "print(thyroid.head())\n",
    "print(thyroid.shape)"
   ]
  },
  {
   "cell_type": "code",
   "execution_count": 16,
   "metadata": {},
   "outputs": [
    {
     "data": {
      "image/png": "[encoded data removed]",
      "text/plain": [
       "<Figure size 432x288 with 1 Axes>"
      ]
     },
     "metadata": {
      "needs_background": "light"
     },
     "output_type": "display_data"
    },
    {
     "data": {
      "image/png": "[encoded data removed]",
      "text/plain": [
       "<Figure size 432x288 with 1 Axes>"
      ]
     },
     "metadata": {
      "needs_background": "light"
     },
     "output_type": "display_data"
    },
    {
     "data": {
      "image/png": "[encoded data removed]",
      "text/plain": [
       "<Figure size 432x288 with 1 Axes>"
      ]
     },
     "metadata": {
      "needs_background": "light"
     },
     "output_type": "display_data"
    },
    {
     "data": {
      "image/png": "[encoded data removed]",
      "text/plain": [
       "<Figure size 432x288 with 1 Axes>"
      ]
     },
     "metadata": {
      "needs_background": "light"
     },
     "output_type": "display_data"
    },
    {
     "data": {
      "image/png": "[encoded data removed]",
      "text/plain": [
       "<Figure size 432x288 with 1 Axes>"
      ]
     },
     "metadata": {
      "needs_background": "light"
     },
     "output_type": "display_data"
    }
   ],
   "source": [
    "X_5d = np.array(thyroid)\n",
    "\n",
    "## Standardizing the data\n",
    "for i in range(0,X_5d.shape[1]):\n",
    "    \n",
    "    temp_mean = np.mean(X_5d[:,i])\n",
    "    X_5d[:,i] = X_5d[:,i] -  temp_mean\n",
    "    \n",
    "    temp_std = np.std(X_5d[:,i])\n",
    "    X_5d[:,i] = X_5d[:,i]/temp_std\n",
    "    \n",
    "    plt.hist(X_5d[:,i])\n",
    "    plt.show()"
   ]
  },
  {
   "cell_type": "markdown",
   "metadata": {},
   "source": [
    "### K-means method"
   ]
  },
  {
   "cell_type": "markdown",
   "metadata": {},
   "source": [
    "#### Running the k-means algorithm"
   ]
  },
  {
   "cell_type": "code",
   "execution_count": 29,
   "metadata": {},
   "outputs": [
    {
     "name": "stdout",
     "output_type": "stream",
     "text": [
      "(215, 5)\n",
      "[113  96  75]\n"
     ]
    }
   ],
   "source": [
    "#X_5d = np.array(thyroid)\n",
    "print(X_5d.shape)\n",
    "centroids, cluster_table, cost_values_db, cost_values_dunn = k_means_clustering(3,X_5d)"
   ]
  },
  {
   "cell_type": "markdown",
   "metadata": {},
   "source": [
    "#### Optimizing over K (number of hypothetical clusters)"
   ]
  },
  {
   "cell_type": "code",
   "execution_count": 41,
   "metadata": {},
   "outputs": [
    {
     "name": "stdout",
     "output_type": "stream",
     "text": [
      "{'K_hat': 2}\n",
      "[  8 133]\n",
      "{'K_hat': 3}\n",
      "[10 89 18]\n",
      "{'K_hat': 4}\n",
      "[193 172 183  21]\n",
      "{'K_hat': 5}\n",
      "[142  21  51 167  48]\n",
      "{'K_hat': 6}\n",
      "[162  66 114 141 154  13]\n",
      "{'K_hat': 7}\n",
      "[168 170 156 116 165 198 161]\n",
      "{'K_hat': 8}\n",
      "[ 20  46 214 146 155  19 107 113]\n",
      "{'K_hat': 9}\n",
      "[139  53  29 158  70 150  23 144 154]\n",
      "{'K_hat': 10}\n",
      "[148 195  63 139 199 148 151 189  61 131]\n",
      "{'K_hat': 11}\n",
      "[ 58  31 146 180  38 174 154 107  47 140 187]\n",
      "{'K_hat': 12}\n",
      "[208  46 149 149 136 133 212 164 167  86 108 212]\n",
      "{'K_hat': 13}\n",
      "[145 167 142 140  90  88  38 185 117  65  25  76 142]\n",
      "{'K_hat': 14}\n",
      "[ 71  39 144 157  57  79 205 175  48  89 205 175  50  66]\n"
     ]
    },
    {
     "data": {
      "image/png": "[encoded data removed]",
      "text/plain": [
       "<Figure size 432x288 with 1 Axes>"
      ]
     },
     "metadata": {
      "needs_background": "light"
     },
     "output_type": "display_data"
    }
   ],
   "source": [
    "index_params_plotter(param = 'K_hat',start_value = 2,end_value = 15,X = X_5d)"
   ]
  },
  {
   "cell_type": "markdown",
   "metadata": {},
   "source": [
    "#### Fitting the optimal model"
   ]
  },
  {
   "cell_type": "code",
   "execution_count": 22,
   "metadata": {},
   "outputs": [
    {
     "name": "stdout",
     "output_type": "stream",
     "text": [
      "[ 13  91 166]\n"
     ]
    }
   ],
   "source": [
    "centroids, cluster_table, cost_values_db, cost_values_dunn = k_means_clustering(3,X_5d)"
   ]
  },
  {
   "cell_type": "markdown",
   "metadata": {},
   "source": [
    "#### Calculating the index values"
   ]
  },
  {
   "cell_type": "code",
   "execution_count": 24,
   "metadata": {},
   "outputs": [
    {
     "data": {
      "image/png": "[encoded data removed]",
      "text/plain": [
       "<Figure size 432x288 with 1 Axes>"
      ]
     },
     "metadata": {
      "needs_background": "light"
     },
     "output_type": "display_data"
    },
    {
     "name": "stdout",
     "output_type": "stream",
     "text": [
      "[nan, nan, nan, nan]\n"
     ]
    }
   ],
   "source": [
    "#print(centroids)\n",
    "#print(cluster_table)\n",
    "#print(cost_values_db)\n",
    "plt.plot(cost_values_db)\n",
    "plt.plot(cost_values_dunn)\n",
    "plt.legend(['DB-index','Dunn-index'])\n",
    "plt.title(\"Index values in consecutive iterations of the K-means algorithm\")\n",
    "plt.show()\n",
    "\n",
    "print(cost_values_db)"
   ]
  },
  {
   "cell_type": "markdown",
   "metadata": {},
   "source": [
    "### Minimum Spanning Tree clustering"
   ]
  },
  {
   "cell_type": "code",
   "execution_count": null,
   "metadata": {},
   "outputs": [],
   "source": []
  },
  {
   "cell_type": "markdown",
   "metadata": {},
   "source": [
    "#### Running the Kruskal algorithm"
   ]
  },
  {
   "cell_type": "code",
   "execution_count": 25,
   "metadata": {
    "scrolled": true
   },
   "outputs": [],
   "source": [
    "result_5d = mst_cluster(X_5d,k=3,d=5) # Using the optimised number of clusters from k-means"
   ]
  },
  {
   "cell_type": "markdown",
   "metadata": {},
   "source": [
    "#### Optimizing over K (number of hypothetical clusters)"
   ]
  },
  {
   "cell_type": "code",
   "execution_count": 35,
   "metadata": {
    "scrolled": true
   },
   "outputs": [
    {
     "name": "stdout",
     "output_type": "stream",
     "text": [
      "{'K_hat': 2}\n",
      "{'K_hat': 3}\n"
     ]
    },
    {
     "ename": "KeyboardInterrupt",
     "evalue": "",
     "output_type": "error",
     "traceback": [
      "\u001b[0;31m---------------------------------------------------------------------------\u001b[0m",
      "\u001b[0;31mKeyboardInterrupt\u001b[0m                         Traceback (most recent call last)",
      "\u001b[0;32m<ipython-input-35-175a98f493e2>\u001b[0m in \u001b[0;36m<module>\u001b[0;34m\u001b[0m\n\u001b[0;32m----> 1\u001b[0;31m \u001b[0mmst_index_params_plotter\u001b[0m\u001b[0;34m(\u001b[0m\u001b[0mparam\u001b[0m \u001b[0;34m=\u001b[0m \u001b[0;34m'K_hat'\u001b[0m\u001b[0;34m,\u001b[0m\u001b[0mstart_value\u001b[0m \u001b[0;34m=\u001b[0m \u001b[0;36m2\u001b[0m\u001b[0;34m,\u001b[0m\u001b[0mend_value\u001b[0m \u001b[0;34m=\u001b[0m \u001b[0;36m15\u001b[0m\u001b[0;34m,\u001b[0m\u001b[0mX\u001b[0m\u001b[0;34m=\u001b[0m\u001b[0mX_5d\u001b[0m\u001b[0;34m)\u001b[0m\u001b[0;34m\u001b[0m\u001b[0;34m\u001b[0m\u001b[0m\n\u001b[0m",
      "\u001b[0;32m<ipython-input-33-be36f5902334>\u001b[0m in \u001b[0;36mmst_index_params_plotter\u001b[0;34m(param, start_value, end_value, X)\u001b[0m\n\u001b[1;32m    394\u001b[0m         \u001b[0mprint\u001b[0m\u001b[0;34m(\u001b[0m\u001b[0mtemp_dict\u001b[0m\u001b[0;34m)\u001b[0m\u001b[0;34m\u001b[0m\u001b[0;34m\u001b[0m\u001b[0m\n\u001b[1;32m    395\u001b[0m \u001b[0;34m\u001b[0m\u001b[0m\n\u001b[0;32m--> 396\u001b[0;31m         \u001b[0mdb_final\u001b[0m\u001b[0;34m,\u001b[0m\u001b[0mdunn_final\u001b[0m \u001b[0;34m=\u001b[0m \u001b[0mmst_index_params\u001b[0m\u001b[0;34m(\u001b[0m\u001b[0;34m**\u001b[0m\u001b[0mtemp_dict\u001b[0m\u001b[0;34m,\u001b[0m\u001b[0mX\u001b[0m\u001b[0;34m=\u001b[0m\u001b[0mX\u001b[0m\u001b[0;34m)\u001b[0m\u001b[0;34m\u001b[0m\u001b[0;34m\u001b[0m\u001b[0m\n\u001b[0m\u001b[1;32m    397\u001b[0m \u001b[0;34m\u001b[0m\u001b[0m\n\u001b[1;32m    398\u001b[0m         \u001b[0mdbs\u001b[0m\u001b[0;34m.\u001b[0m\u001b[0mappend\u001b[0m\u001b[0;34m(\u001b[0m\u001b[0mdb_final\u001b[0m\u001b[0;34m)\u001b[0m\u001b[0;34m\u001b[0m\u001b[0;34m\u001b[0m\u001b[0m\n",
      "\u001b[0;32m<ipython-input-33-be36f5902334>\u001b[0m in \u001b[0;36mmst_index_params\u001b[0;34m(X, n, p, K_true, std, K_hat, d)\u001b[0m\n\u001b[1;32m    371\u001b[0m \u001b[0;32mdef\u001b[0m \u001b[0mmst_index_params\u001b[0m\u001b[0;34m(\u001b[0m\u001b[0mX\u001b[0m\u001b[0;34m,\u001b[0m\u001b[0mn\u001b[0m\u001b[0;34m=\u001b[0m\u001b[0;36m300\u001b[0m\u001b[0;34m,\u001b[0m\u001b[0mp\u001b[0m\u001b[0;34m=\u001b[0m\u001b[0;36m2\u001b[0m\u001b[0;34m,\u001b[0m\u001b[0mK_true\u001b[0m\u001b[0;34m=\u001b[0m\u001b[0;36m3\u001b[0m\u001b[0;34m,\u001b[0m\u001b[0mstd\u001b[0m\u001b[0;34m=\u001b[0m\u001b[0;36m0.9\u001b[0m\u001b[0;34m,\u001b[0m\u001b[0mK_hat\u001b[0m\u001b[0;34m=\u001b[0m\u001b[0;36m5\u001b[0m\u001b[0;34m,\u001b[0m \u001b[0md\u001b[0m\u001b[0;34m=\u001b[0m\u001b[0;36m5\u001b[0m\u001b[0;34m)\u001b[0m\u001b[0;34m:\u001b[0m\u001b[0;34m\u001b[0m\u001b[0;34m\u001b[0m\u001b[0m\n\u001b[1;32m    372\u001b[0m     \u001b[0;31m#X, y = benchmark_data_generation(n=n,p=p,K=K_true,std = std)\u001b[0m\u001b[0;34m\u001b[0m\u001b[0;34m\u001b[0m\u001b[0;34m\u001b[0m\u001b[0m\n\u001b[0;32m--> 373\u001b[0;31m     \u001b[0mresult\u001b[0m \u001b[0;34m=\u001b[0m \u001b[0mmst_cluster\u001b[0m\u001b[0;34m(\u001b[0m\u001b[0mX\u001b[0m\u001b[0;34m,\u001b[0m\u001b[0mk\u001b[0m \u001b[0;34m=\u001b[0m \u001b[0mK_hat\u001b[0m\u001b[0;34m,\u001b[0m\u001b[0md\u001b[0m\u001b[0;34m=\u001b[0m\u001b[0md\u001b[0m\u001b[0;34m)\u001b[0m\u001b[0;34m\u001b[0m\u001b[0;34m\u001b[0m\u001b[0m\n\u001b[0m\u001b[1;32m    374\u001b[0m     \u001b[0mmst_centroids\u001b[0m \u001b[0;34m=\u001b[0m \u001b[0mcentroid_calc_for_mst\u001b[0m\u001b[0;34m(\u001b[0m\u001b[0mK\u001b[0m\u001b[0;34m=\u001b[0m\u001b[0mK_hat\u001b[0m\u001b[0;34m,\u001b[0m\u001b[0md\u001b[0m\u001b[0;34m=\u001b[0m\u001b[0md\u001b[0m\u001b[0;34m,\u001b[0m\u001b[0mresult\u001b[0m\u001b[0;34m=\u001b[0m\u001b[0mresult\u001b[0m\u001b[0;34m,\u001b[0m\u001b[0mX\u001b[0m\u001b[0;34m=\u001b[0m\u001b[0mX\u001b[0m\u001b[0;34m)\u001b[0m\u001b[0;34m\u001b[0m\u001b[0;34m\u001b[0m\u001b[0m\n\u001b[1;32m    375\u001b[0m     \u001b[0mdb_final\u001b[0m \u001b[0;34m=\u001b[0m \u001b[0mDB_index\u001b[0m\u001b[0;34m(\u001b[0m\u001b[0mX\u001b[0m\u001b[0;34m,\u001b[0m\u001b[0mmst_centroids\u001b[0m\u001b[0;34m,\u001b[0m\u001b[0mresult\u001b[0m\u001b[0;34m)\u001b[0m\u001b[0;34m\u001b[0m\u001b[0;34m\u001b[0m\u001b[0m\n",
      "\u001b[0;32m<ipython-input-33-be36f5902334>\u001b[0m in \u001b[0;36mmst_cluster\u001b[0;34m(X, k, d)\u001b[0m\n\u001b[1;32m     63\u001b[0m     \u001b[0mX\u001b[0m \u001b[0;34m=\u001b[0m \u001b[0mpd\u001b[0m\u001b[0;34m.\u001b[0m\u001b[0mDataFrame\u001b[0m\u001b[0;34m(\u001b[0m\u001b[0mX\u001b[0m\u001b[0;34m)\u001b[0m\u001b[0;34m\u001b[0m\u001b[0;34m\u001b[0m\u001b[0m\n\u001b[1;32m     64\u001b[0m     \u001b[0;31m#print(\"Shape of X: {}\".format(X.shape))\u001b[0m\u001b[0;34m\u001b[0m\u001b[0;34m\u001b[0m\u001b[0;34m\u001b[0m\u001b[0m\n\u001b[0;32m---> 65\u001b[0;31m     \u001b[0mmatrix\u001b[0m \u001b[0;34m=\u001b[0m \u001b[0madjacency_matrix\u001b[0m\u001b[0;34m(\u001b[0m\u001b[0mX\u001b[0m\u001b[0;34m)\u001b[0m\u001b[0;34m\u001b[0m\u001b[0;34m\u001b[0m\u001b[0m\n\u001b[0m\u001b[1;32m     66\u001b[0m     \u001b[0mvector\u001b[0m \u001b[0;34m=\u001b[0m \u001b[0medge_vector\u001b[0m\u001b[0;34m(\u001b[0m\u001b[0mmatrix\u001b[0m\u001b[0;34m)\u001b[0m\u001b[0;34m\u001b[0m\u001b[0;34m\u001b[0m\u001b[0m\n\u001b[1;32m     67\u001b[0m     \u001b[0msorted_vector\u001b[0m \u001b[0;34m=\u001b[0m \u001b[0medge_sorting\u001b[0m\u001b[0;34m(\u001b[0m\u001b[0mvector\u001b[0m\u001b[0;34m)\u001b[0m\u001b[0;34m\u001b[0m\u001b[0;34m\u001b[0m\u001b[0m\n",
      "\u001b[0;32m<ipython-input-33-be36f5902334>\u001b[0m in \u001b[0;36madjacency_matrix\u001b[0;34m(X)\u001b[0m\n\u001b[1;32m     29\u001b[0m     \u001b[0;32mfor\u001b[0m \u001b[0mi\u001b[0m \u001b[0;32min\u001b[0m \u001b[0mrange\u001b[0m\u001b[0;34m(\u001b[0m\u001b[0;36m0\u001b[0m\u001b[0;34m,\u001b[0m\u001b[0mn\u001b[0m\u001b[0;34m)\u001b[0m\u001b[0;34m:\u001b[0m\u001b[0;34m\u001b[0m\u001b[0;34m\u001b[0m\u001b[0m\n\u001b[1;32m     30\u001b[0m         \u001b[0;32mfor\u001b[0m \u001b[0mj\u001b[0m \u001b[0;32min\u001b[0m \u001b[0mrange\u001b[0m\u001b[0;34m(\u001b[0m\u001b[0mi\u001b[0m\u001b[0;34m+\u001b[0m\u001b[0;36m1\u001b[0m\u001b[0;34m,\u001b[0m\u001b[0mn\u001b[0m\u001b[0;34m)\u001b[0m\u001b[0;34m:\u001b[0m\u001b[0;34m\u001b[0m\u001b[0;34m\u001b[0m\u001b[0m\n\u001b[0;32m---> 31\u001b[0;31m             \u001b[0mdist_matrix\u001b[0m\u001b[0;34m[\u001b[0m\u001b[0mi\u001b[0m\u001b[0;34m,\u001b[0m\u001b[0mj\u001b[0m\u001b[0;34m]\u001b[0m\u001b[0;34m=\u001b[0m\u001b[0meuclidean_dist\u001b[0m\u001b[0;34m(\u001b[0m\u001b[0mnp\u001b[0m\u001b[0;34m.\u001b[0m\u001b[0marray\u001b[0m\u001b[0;34m(\u001b[0m\u001b[0mX\u001b[0m\u001b[0;34m.\u001b[0m\u001b[0miloc\u001b[0m\u001b[0;34m[\u001b[0m\u001b[0mi\u001b[0m\u001b[0;34m,\u001b[0m\u001b[0;34m]\u001b[0m\u001b[0;34m)\u001b[0m\u001b[0;34m,\u001b[0m\u001b[0mnp\u001b[0m\u001b[0;34m.\u001b[0m\u001b[0marray\u001b[0m\u001b[0;34m(\u001b[0m\u001b[0mX\u001b[0m\u001b[0;34m.\u001b[0m\u001b[0miloc\u001b[0m\u001b[0;34m[\u001b[0m\u001b[0mj\u001b[0m\u001b[0;34m,\u001b[0m\u001b[0;34m]\u001b[0m\u001b[0;34m)\u001b[0m\u001b[0;34m)\u001b[0m\u001b[0;34m\u001b[0m\u001b[0;34m\u001b[0m\u001b[0m\n\u001b[0m\u001b[1;32m     32\u001b[0m \u001b[0;34m\u001b[0m\u001b[0m\n\u001b[1;32m     33\u001b[0m     \u001b[0;32mreturn\u001b[0m \u001b[0mdist_matrix\u001b[0m\u001b[0;34m\u001b[0m\u001b[0;34m\u001b[0m\u001b[0m\n",
      "\u001b[0;32m~/opt/anaconda3/lib/python3.7/site-packages/pandas/core/indexing.py\u001b[0m in \u001b[0;36m__getitem__\u001b[0;34m(self, key)\u001b[0m\n\u001b[1;32m   1411\u001b[0m         \u001b[0;32mif\u001b[0m \u001b[0mtype\u001b[0m\u001b[0;34m(\u001b[0m\u001b[0mkey\u001b[0m\u001b[0;34m)\u001b[0m \u001b[0;32mis\u001b[0m \u001b[0mtuple\u001b[0m\u001b[0;34m:\u001b[0m\u001b[0;34m\u001b[0m\u001b[0;34m\u001b[0m\u001b[0m\n\u001b[1;32m   1412\u001b[0m             \u001b[0mkey\u001b[0m \u001b[0;34m=\u001b[0m \u001b[0mtuple\u001b[0m\u001b[0;34m(\u001b[0m\u001b[0mcom\u001b[0m\u001b[0;34m.\u001b[0m\u001b[0mapply_if_callable\u001b[0m\u001b[0;34m(\u001b[0m\u001b[0mx\u001b[0m\u001b[0;34m,\u001b[0m \u001b[0mself\u001b[0m\u001b[0;34m.\u001b[0m\u001b[0mobj\u001b[0m\u001b[0;34m)\u001b[0m \u001b[0;32mfor\u001b[0m \u001b[0mx\u001b[0m \u001b[0;32min\u001b[0m \u001b[0mkey\u001b[0m\u001b[0;34m)\u001b[0m\u001b[0;34m\u001b[0m\u001b[0;34m\u001b[0m\u001b[0m\n\u001b[0;32m-> 1413\u001b[0;31m             \u001b[0;32mif\u001b[0m \u001b[0mself\u001b[0m\u001b[0;34m.\u001b[0m\u001b[0m_is_scalar_access\u001b[0m\u001b[0;34m(\u001b[0m\u001b[0mkey\u001b[0m\u001b[0;34m)\u001b[0m\u001b[0;34m:\u001b[0m\u001b[0;34m\u001b[0m\u001b[0;34m\u001b[0m\u001b[0m\n\u001b[0m\u001b[1;32m   1414\u001b[0m                 \u001b[0;32mtry\u001b[0m\u001b[0;34m:\u001b[0m\u001b[0;34m\u001b[0m\u001b[0;34m\u001b[0m\u001b[0m\n\u001b[1;32m   1415\u001b[0m                     \u001b[0;32mreturn\u001b[0m \u001b[0mself\u001b[0m\u001b[0;34m.\u001b[0m\u001b[0m_getitem_scalar\u001b[0m\u001b[0;34m(\u001b[0m\u001b[0mkey\u001b[0m\u001b[0;34m)\u001b[0m\u001b[0;34m\u001b[0m\u001b[0;34m\u001b[0m\u001b[0m\n",
      "\u001b[0;32m~/opt/anaconda3/lib/python3.7/site-packages/pandas/core/indexing.py\u001b[0m in \u001b[0;36m_is_scalar_access\u001b[0;34m(self, key)\u001b[0m\n\u001b[1;32m   2044\u001b[0m         \u001b[0;31m# a) avoid getting things via sections and (to minimize dtype changes)\u001b[0m\u001b[0;34m\u001b[0m\u001b[0;34m\u001b[0m\u001b[0;34m\u001b[0m\u001b[0m\n\u001b[1;32m   2045\u001b[0m         \u001b[0;31m# b) provide a performant path\u001b[0m\u001b[0;34m\u001b[0m\u001b[0;34m\u001b[0m\u001b[0;34m\u001b[0m\u001b[0m\n\u001b[0;32m-> 2046\u001b[0;31m         \u001b[0;32mif\u001b[0m \u001b[0mlen\u001b[0m\u001b[0;34m(\u001b[0m\u001b[0mkey\u001b[0m\u001b[0;34m)\u001b[0m \u001b[0;34m!=\u001b[0m \u001b[0mself\u001b[0m\u001b[0;34m.\u001b[0m\u001b[0mndim\u001b[0m\u001b[0;34m:\u001b[0m\u001b[0;34m\u001b[0m\u001b[0;34m\u001b[0m\u001b[0m\n\u001b[0m\u001b[1;32m   2047\u001b[0m             \u001b[0;32mreturn\u001b[0m \u001b[0;32mFalse\u001b[0m\u001b[0;34m\u001b[0m\u001b[0;34m\u001b[0m\u001b[0m\n\u001b[1;32m   2048\u001b[0m \u001b[0;34m\u001b[0m\u001b[0m\n",
      "\u001b[0;32mpandas/_libs/indexing.pyx\u001b[0m in \u001b[0;36mpandas._libs.indexing._NDFrameIndexerBase.ndim.__get__\u001b[0;34m()\u001b[0m\n",
      "\u001b[0;32m~/opt/anaconda3/lib/python3.7/site-packages/pandas/core/generic.py\u001b[0m in \u001b[0;36mndim\u001b[0;34m(self)\u001b[0m\n\u001b[1;32m    529\u001b[0m         \u001b[0;36m2\u001b[0m\u001b[0;34m\u001b[0m\u001b[0;34m\u001b[0m\u001b[0m\n\u001b[1;32m    530\u001b[0m         \"\"\"\n\u001b[0;32m--> 531\u001b[0;31m         \u001b[0;32mreturn\u001b[0m \u001b[0mself\u001b[0m\u001b[0;34m.\u001b[0m\u001b[0m_data\u001b[0m\u001b[0;34m.\u001b[0m\u001b[0mndim\u001b[0m\u001b[0;34m\u001b[0m\u001b[0;34m\u001b[0m\u001b[0m\n\u001b[0m\u001b[1;32m    532\u001b[0m \u001b[0;34m\u001b[0m\u001b[0m\n\u001b[1;32m    533\u001b[0m     \u001b[0;34m@\u001b[0m\u001b[0mproperty\u001b[0m\u001b[0;34m\u001b[0m\u001b[0;34m\u001b[0m\u001b[0m\n",
      "\u001b[0;31mKeyboardInterrupt\u001b[0m: "
     ]
    }
   ],
   "source": [
    "mst_index_params_plotter(param = 'K_hat',start_value = 2,end_value = 15,X=X_5d)"
   ]
  },
  {
   "cell_type": "markdown",
   "metadata": {},
   "source": [
    "Based on this analysis the optimal number of clusters is 2 or maybe 11, so MST finds a different optimum than K-means (which found 3 as the best number of clusters for MST."
   ]
  },
  {
   "cell_type": "markdown",
   "metadata": {},
   "source": [
    "#### Calculating the index values"
   ]
  },
  {
   "cell_type": "code",
   "execution_count": 26,
   "metadata": {},
   "outputs": [
    {
     "name": "stdout",
     "output_type": "stream",
     "text": [
      "[[-0.02369668  0.09952607  0.16113744  0.10900474  0.12796209]\n",
      " [ 0.5        -0.5         0.          1.          5.5       ]\n",
      " [ 0.         -1.          0.          7.          1.5       ]]\n",
      "0.32176225829538313\n",
      "0.1111111111111111\n"
     ]
    }
   ],
   "source": [
    "mst_centroids_5d = centroid_calc_for_mst(K=3,d=5, result=result_5d, X=X_5d)\n",
    "print(mst_centroids_5d)\n",
    "\n",
    "## Calculate index values for MST\n",
    "db_temp = DB_index(X_5d,mst_centroids_5d,result_5d)\n",
    "dunn_temp = dunn_index(X_5d,mst_centroids_5d,result_5d)\n",
    "\n",
    "print(db_temp)\n",
    "print(dunn_temp)"
   ]
  },
  {
   "cell_type": "markdown",
   "metadata": {},
   "source": [
    "### Comparing index values for K-means and MST"
   ]
  },
  {
   "cell_type": "code",
   "execution_count": 27,
   "metadata": {},
   "outputs": [
    {
     "name": "stdout",
     "output_type": "stream",
     "text": [
      "The DB-index for K-means is nan and for MST it is 0.32176225829538313\n",
      "The Dunn-index for K-means is 0.1111111111111111 and for MST it is 0.1111111111111111\n"
     ]
    }
   ],
   "source": [
    "### Comparing index values\n",
    "\n",
    "## K-means\n",
    "# Calculate index values for K-Means\n",
    "db_kmeans = cost_values_db[-1]\n",
    "dunn_kmeans = cost_values_dunn[-1]\n",
    "\n",
    "## MST\n",
    "# Calculate index values for MST\n",
    "db_mst = DB_index(X_5d,mst_centroids_5d,result_5d)\n",
    "dunn_mst = dunn_index(X_5d,mst_centroids_5d,result_5d)\n",
    "\n",
    "print(\"The DB-index for K-means is {} and for MST it is {}\".format(db_kmeans,db_mst))\n",
    "print(\"The Dunn-index for K-means is {} and for MST it is {}\".format(dunn_kmeans,dunn_mst))"
   ]
  },
  {
   "cell_type": "markdown",
   "metadata": {},
   "source": [
    "## WIP (Work in Progress)"
   ]
  },
  {
   "cell_type": "code",
   "execution_count": 8,
   "metadata": {},
   "outputs": [],
   "source": [
    "def index_params(n=300,p=2,K_true=3,std=0.9,K_hat=5):\n",
    "    X, y = benchmark_data_generation(n=n,p=p,K=K_true,std = std)\n",
    "    centroids, cluster_table, cost_values_db, cost_values_dunn = k_means_clustering(K_hat,X)\n",
    "    db_final = cost_values_db[-1]\n",
    "    dunn_final = cost_values_dunn[-1]\n",
    "    \n",
    "    return db_final,dunn_final"
   ]
  },
  {
   "cell_type": "code",
   "execution_count": 9,
   "metadata": {},
   "outputs": [],
   "source": [
    "\n",
    "def index_params_plotter(param,start_value,end_value):\n",
    "    dbs=[]\n",
    "    dunns=[]\n",
    "    integers = ['n','p','K_true','K_hat']\n",
    "    floats = ['std']\n",
    "    \n",
    "    if param in integers:\n",
    "        iterators = np.arange(start_value,end_value,1)\n",
    "    else:\n",
    "        iterators = np.arange(start_value,end_value,0.1)\n",
    "        \n",
    "    for i in iterators:\n",
    "        #a = str(param)+'='+str(i)\n",
    "        #print(type(a))\n",
    "        temp_dict = {str(param) : i}\n",
    "        #db_final,dunn_final = index_params(param=i)\n",
    "        db_final,dunn_final = index_params(**temp_dict)\n",
    "        # Use dictionary instead!!\n",
    "        #db_final,dunn_final = index_params(K_hat=i)\n",
    "        dbs.append(db_final)\n",
    "        dunns.append(dunn_final)\n",
    "\n",
    "    plt.plot(iterators,dbs)\n",
    "    plt.plot(iterators,dunns)\n",
    "    plt.legend(['DB-index','Dunn-index'])\n",
    "    plt.title(\"Index values of the final K-means clustering as a function of: {}\".format(param))\n",
    "    plt.show()"
   ]
  },
  {
   "cell_type": "code",
   "execution_count": 12,
   "metadata": {},
   "outputs": [
    {
     "name": "stdout",
     "output_type": "stream",
     "text": [
      "[243   1]\n",
      "[272 218 289]\n",
      "[  0 199 228 116]\n",
      "[171 263  58 253 109]\n"
     ]
    },
    {
     "data": {
      "image/png": "[encoded data removed]",
      "text/plain": [
       "<Figure size 432x288 with 1 Axes>"
      ]
     },
     "metadata": {
      "needs_background": "light"
     },
     "output_type": "display_data"
    }
   ],
   "source": [
    "index_params_plotter(param='K_hat',start_value=2,end_value=6) # Algorithm should find 3 as optimal"
   ]
  },
  {
   "cell_type": "markdown",
   "metadata": {},
   "source": [
    "## Support"
   ]
  },
  {
   "cell_type": "code",
   "execution_count": 3,
   "metadata": {},
   "outputs": [
    {
     "name": "stdout",
     "output_type": "stream",
     "text": [
      "2.23606797749979\n"
     ]
    }
   ],
   "source": [
    "# Test the custom function\n",
    "\n",
    "x = np.array([1,2,3])\n",
    "y = np.array([1,1,1])\n",
    "\n",
    "print(euclidean_dist(x,y))"
   ]
  },
  {
   "cell_type": "code",
   "execution_count": 4,
   "metadata": {
    "scrolled": true
   },
   "outputs": [
    {
     "name": "stdout",
     "output_type": "stream",
     "text": [
      "100\n",
      "0.006729006703392466\n",
      "      point_1  point_2  distance\n",
      "3894     53.0     79.0  0.006729\n"
     ]
    },
    {
     "data": {
      "image/png": "[encoded data removed]",
      "text/plain": [
       "<Figure size 432x288 with 1 Axes>"
      ]
     },
     "metadata": {
      "needs_background": "light"
     },
     "output_type": "display_data"
    },
    {
     "name": "stdout",
     "output_type": "stream",
     "text": [
      "      index  point_1  point_2  distance\n",
      "0      3770     50.0     96.0  1.305231\n",
      "1      3743     50.0     69.0  1.265085\n",
      "2       386      3.0     96.0  1.240727\n",
      "3      2245     25.0     96.0  1.218423\n",
      "4       359      3.0     69.0  1.205245\n",
      "...     ...      ...      ...       ...\n",
      "4945   1233     13.0     38.0  0.021243\n",
      "4946   4047     57.0     58.0  0.018763\n",
      "4947   1094     11.0     72.0  0.015639\n",
      "4948   3586     47.0     62.0  0.015289\n",
      "4949   3894     53.0     79.0  0.006729\n",
      "\n",
      "[4950 rows x 4 columns]\n"
     ]
    },
    {
     "data": {
      "image/png": "[encoded data removed]",
      "text/plain": [
       "<Figure size 432x288 with 1 Axes>"
      ]
     },
     "metadata": {
      "needs_background": "light"
     },
     "output_type": "display_data"
    }
   ],
   "source": [
    "# Quick and dirty check for finding the 2 closest points\n",
    "\n",
    "points = np.random.rand(100,2)\n",
    "\n",
    "print(len(points))\n",
    "#print(points)\n",
    "\n",
    "results = np.random.rand(1,3)\n",
    "\n",
    "for i in range(0,len(points)):\n",
    "    for j in range(i+1,len(points)):\n",
    "        dist = np.linalg.norm(points[i,:]-points[j,:])\n",
    "        temp = np.array([i,j,dist]).reshape(1,3)\n",
    "        #print(temp.shape)\n",
    "        #print(results.shape)\n",
    "        results = np.vstack((results,temp))\n",
    "\n",
    "results = results[1:,:]        \n",
    "#print(results)\n",
    "print(min(results[:,2]))\n",
    "a = min(results[:,2])\n",
    "\n",
    "\n",
    "results = pd.DataFrame(results)\n",
    "results.columns = ['point_1','point_2','distance']\n",
    "#print(results.columns)\n",
    "\n",
    "# Get the closest point\n",
    "print(results[results['distance']<=a])\n",
    "\n",
    "\n",
    "# Plot histogram of distance\n",
    "plt.hist(results['distance'])\n",
    "plt.show()\n",
    "\n",
    "# Distance-sorted array\n",
    "sorted_results = results.sort_values(by=['distance'],ascending=False).reset_index()\n",
    "print(sorted_results)\n",
    "plt.plot(sorted_results['distance'])\n",
    "plt.show()"
   ]
  },
  {
   "cell_type": "code",
   "execution_count": 65,
   "metadata": {},
   "outputs": [],
   "source": [
    "# Benchmark data generation\n",
    "from sklearn.datasets.samples_generator import make_blobs\n",
    "X, y = make_blobs(n_samples=60, centers=5,n_features = 2,\n",
    "                  random_state=0, cluster_std=0.2)"
   ]
  },
  {
   "cell_type": "code",
   "execution_count": 66,
   "metadata": {},
   "outputs": [
    {
     "name": "stdout",
     "output_type": "stream",
     "text": [
      "60\n"
     ]
    }
   ],
   "source": [
    "X = pd.DataFrame(X)\n",
    "print(X.shape[0])"
   ]
  },
  {
   "cell_type": "code",
   "execution_count": 67,
   "metadata": {},
   "outputs": [],
   "source": [
    "dist_matrix = np.zeros((len(y), len(y)))"
   ]
  },
  {
   "cell_type": "code",
   "execution_count": 68,
   "metadata": {},
   "outputs": [],
   "source": [
    "for i in range(0,len(y)):\n",
    "    for j in range(i+1,len(y)):\n",
    "        dist_matrix[i,j]=euclidean_dist(np.array(X.iloc[i,]),np.array(X.iloc[j,]))"
   ]
  },
  {
   "cell_type": "code",
   "execution_count": 69,
   "metadata": {},
   "outputs": [
    {
     "name": "stdout",
     "output_type": "stream",
     "text": [
      "[[ 0.          0.32836797 14.35833286 ...  4.20854786  4.17960279\n",
      "   5.30726092]\n",
      " [ 0.          0.         14.36333435 ...  4.30605762  4.25097055\n",
      "   5.55465888]\n",
      " [ 0.          0.          0.         ... 10.34893277 10.2705343\n",
      "  11.46289776]\n",
      " ...\n",
      " [ 0.          0.          0.         ...  0.          0.3515184\n",
      "   2.87017855]\n",
      " [ 0.          0.          0.         ...  0.          0.\n",
      "   3.22153427]\n",
      " [ 0.          0.          0.         ...  0.          0.\n",
      "   0.        ]]\n"
     ]
    }
   ],
   "source": [
    "print(dist_matrix)"
   ]
  },
  {
   "cell_type": "code",
   "execution_count": 70,
   "metadata": {},
   "outputs": [
    {
     "name": "stdout",
     "output_type": "stream",
     "text": [
      "60\n"
     ]
    }
   ],
   "source": [
    "temp = adjacency_matrix(X)\n",
    "print(len(temp))"
   ]
  },
  {
   "cell_type": "code",
   "execution_count": 72,
   "metadata": {},
   "outputs": [
    {
     "name": "stdout",
     "output_type": "stream",
     "text": [
      "1770\n",
      "[ 0.         22.          4.24637891]\n"
     ]
    }
   ],
   "source": [
    "temp_vector = edge_vector(temp)\n",
    "print(len(temp_vector))\n",
    "print(temp_vector[21,:])"
   ]
  },
  {
   "cell_type": "code",
   "execution_count": 73,
   "metadata": {},
   "outputs": [
    {
     "name": "stdout",
     "output_type": "stream",
     "text": [
      "1770\n"
     ]
    }
   ],
   "source": [
    "sorted_list = edge_sorting(temp_vector)\n",
    "print(len(sorted_list))"
   ]
  },
  {
   "cell_type": "code",
   "execution_count": 74,
   "metadata": {},
   "outputs": [
    {
     "name": "stdout",
     "output_type": "stream",
     "text": [
      "[37 19  9 50 24]\n",
      "[[ 0.98542178  4.26635056]\n",
      " [ 1.98568509  0.92893345]\n",
      " [-1.68953327  2.57262574]\n",
      " [-1.22287336  7.91585789]\n",
      " [ 9.646767   -2.14996069]]\n",
      "[[ 0  3]\n",
      " [ 1  3]\n",
      " [ 2  4]\n",
      " [ 3  1]\n",
      " [ 4  2]\n",
      " [ 5  0]\n",
      " [ 6  3]\n",
      " [ 7  3]\n",
      " [ 8  4]\n",
      " [ 9  2]\n",
      " [10  0]\n",
      " [11  3]\n",
      " [12  1]\n",
      " [13  4]\n",
      " [14  1]\n",
      " [15  3]\n",
      " [16  1]\n",
      " [17  1]\n",
      " [18  1]\n",
      " [19  1]\n",
      " [20  4]\n",
      " [21  4]\n",
      " [22  0]\n",
      " [23  1]\n",
      " [24  4]\n",
      " [25  2]\n",
      " [26  3]\n",
      " [27  2]\n",
      " [28  1]\n",
      " [29  2]\n",
      " [30  2]\n",
      " [31  4]\n",
      " [32  0]\n",
      " [33  2]\n",
      " [34  4]\n",
      " [35  1]\n",
      " [36  0]\n",
      " [37  0]\n",
      " [38  1]\n",
      " [39  4]\n",
      " [40  4]\n",
      " [41  0]\n",
      " [42  0]\n",
      " [43  3]\n",
      " [44  3]\n",
      " [45  0]\n",
      " [46  4]\n",
      " [47  2]\n",
      " [48  4]\n",
      " [49  2]\n",
      " [50  3]\n",
      " [51  2]\n",
      " [52  1]\n",
      " [53  3]\n",
      " [54  0]\n",
      " [55  3]\n",
      " [56  2]\n",
      " [57  0]\n",
      " [58  0]\n",
      " [59  2]]\n",
      "[[ 5  0]\n",
      " [10  0]\n",
      " [22  0]\n",
      " [32  0]\n",
      " [36  0]\n",
      " [37  0]\n",
      " [41  0]\n",
      " [42  0]\n",
      " [45  0]\n",
      " [54  0]\n",
      " [57  0]\n",
      " [58  0]]\n",
      "[[ 1.05265327  4.28690396]\n",
      " [ 1.9385333   0.92517922]\n",
      " [-1.60284845  2.85541324]\n",
      " [-1.21824977  7.96700915]\n",
      " [ 9.3403589  -2.20695465]]\n",
      "60\n"
     ]
    }
   ],
   "source": [
    "# Parameters\n",
    "K = 5 # Number of clusters\n",
    "n = X.shape[0] # Number of observations\n",
    "d = X.shape[1] # dimensions\n",
    "X = np.array(X) # Convert pandas dataframe to numpy array\n",
    "\n",
    "# STEP 0\n",
    "# Get initial starting points\n",
    "initial_indices = np.random.randint(0,high=n,size=K) # Initial indices\n",
    "print(initial_indices)\n",
    "\n",
    "centroids = np.zeros((K, d))\n",
    "\n",
    "counter = 0\n",
    "for i in initial_indices:\n",
    "    centroids[counter,:] = X[i,:]\n",
    "    counter += 1\n",
    "\n",
    "print(centroids)\n",
    "\n",
    "# STEP 1\n",
    "# Assign points to centroids\n",
    "cluster_table = np.zeros((n, 2))\n",
    "cluster_table[:,0] = np.arange(0,n,1)\n",
    "cluster_table = cluster_table.astype(int)\n",
    "\n",
    "change_tracker = True\n",
    "overall_change = 0\n",
    "for i in range(0,n):\n",
    "    current_cluster = int(cluster_table[i,1])\n",
    "    #print(current_cluster)\n",
    "    current_dist = euclidean_dist(X[i,],centroids[current_cluster,])\n",
    "    for j in range(0,K):\n",
    "        temp = euclidean_dist(X[i,],centroids[j,])\n",
    "        if temp<current_dist:\n",
    "            cluster_table[i,1]=j\n",
    "            current_dist = temp\n",
    "            \n",
    "            overall_change += 1\n",
    "            \n",
    "if overall_change == 0:\n",
    "    change_tracker = False\n",
    "\n",
    "# STEP 2\n",
    "# Recalculate centroids\n",
    "print(cluster_table)\n",
    "\n",
    "# Filter observations\n",
    "temp_table = cluster_table[cluster_table[:,1]==0]\n",
    "print(temp_table)\n",
    "\n",
    "for i in range(0,K):\n",
    "    # Filter for points in the given cluster\n",
    "    temp_table2 = cluster_table[cluster_table[:,1]==i]\n",
    "    \n",
    "    # Calculating new centroids\n",
    "    temp_array = np.zeros((len(temp_table2),d))\n",
    "    counter = 0\n",
    "    \n",
    "    for j in temp_table2[:,0]:\n",
    "        temp_array[counter,:] = X[j,:]\n",
    "        counter += 1\n",
    "    \n",
    "    # Assign the new centroids\n",
    "    centroids[i,:] = np.mean(temp_array, axis=0)\n",
    "    \n",
    "\n",
    "print(centroids)\n",
    "print(overall_change)"
   ]
  },
  {
   "cell_type": "code",
   "execution_count": 75,
   "metadata": {},
   "outputs": [],
   "source": [
    "def k_means_clustering(K,X):\n",
    "    n = X.shape[0] # Number of observations\n",
    "    d = X.shape[1] # dimensions\n",
    "    X = np.array(X) # Convert pandas dataframe to numpy array\n",
    "\n",
    "    # STEP 0\n",
    "    # Get initial starting points\n",
    "    initial_indices = np.random.randint(0,high=n,size=K) # Initial indices\n",
    "    print(initial_indices)\n",
    "\n",
    "    centroids = np.zeros((K, d))\n",
    "\n",
    "    counter = 0\n",
    "    for i in initial_indices:\n",
    "        centroids[counter,:] = X[i,:]\n",
    "        counter += 1\n",
    "\n",
    "    #print(centroids)\n",
    "\n",
    "    # STEP 1\n",
    "    # Assign points to centroids\n",
    "    cluster_table = np.zeros((n, 2))\n",
    "    cluster_table[:,0] = np.arange(0,n,1)\n",
    "    cluster_table = cluster_table.astype(int)\n",
    "    \n",
    "    \n",
    "    change_tracker = True\n",
    "    \n",
    "    # Big loop\n",
    "    while change_tracker:\n",
    "        overall_change = 0\n",
    "        for i in range(0,n):\n",
    "            current_cluster = int(cluster_table[i,1])\n",
    "            #print(current_cluster)\n",
    "            current_dist = euclidean_dist(X[i,],centroids[current_cluster,])\n",
    "            for j in range(0,K):\n",
    "                temp = euclidean_dist(X[i,],centroids[j,])\n",
    "                if temp<current_dist:\n",
    "                    cluster_table[i,1]=j\n",
    "                    current_dist = temp\n",
    "\n",
    "                    overall_change += 1\n",
    "\n",
    "        if overall_change == 0:\n",
    "            change_tracker = False\n",
    "\n",
    "        # STEP 2\n",
    "        # Recalculate centroids\n",
    "        #print(cluster_table)\n",
    "\n",
    "        # Filter observations\n",
    "        temp_table = cluster_table[cluster_table[:,1]==0]\n",
    "        #print(temp_table)\n",
    "\n",
    "        for i in range(0,K):\n",
    "            # Filter for points in the given cluster\n",
    "            temp_table2 = cluster_table[cluster_table[:,1]==i]\n",
    "\n",
    "            # Calculating new centroids\n",
    "            temp_array = np.zeros((len(temp_table2),d))\n",
    "            counter = 0\n",
    "\n",
    "            for j in temp_table2[:,0]:\n",
    "                temp_array[counter,:] = X[j,:]\n",
    "                counter += 1\n",
    "\n",
    "            # Assign the new centroids\n",
    "            centroids[i,:] = np.mean(temp_array, axis=0)\n",
    "            \n",
    "    return centroids, cluster_table\n",
    "    "
   ]
  },
  {
   "cell_type": "code",
   "execution_count": 29,
   "metadata": {},
   "outputs": [
    {
     "name": "stdout",
     "output_type": "stream",
     "text": [
      "[0.7261200296029495, 0.7964911256275813, 0.7725433034317905]\n"
     ]
    }
   ],
   "source": [
    "# Distances\n",
    "def within_cluster_dist(X,centroids,cluster_table):\n",
    "    sums = []\n",
    "    for i in range(0,len(centroids)):\n",
    "        temp = cluster_table[cluster_table[:,1]==i]\n",
    "        temp_sum = 0\n",
    "\n",
    "        for j in range(0,len(temp)):\n",
    "            index = temp[j,0]\n",
    "            current_dist = euclidean_dist(X[index,],centroids[i,])\n",
    "            temp_sum += current_dist\n",
    "\n",
    "        temp_sum = math.sqrt(temp_sum/len(temp))\n",
    "\n",
    "        sums.append(temp_sum)\n",
    "        \n",
    "    return sums\n",
    "\n",
    "sums = within_cluster_dist(X,centroids,cluster_table)\n",
    "\n",
    "\n",
    "print(sums)\n",
    "        "
   ]
  },
  {
   "cell_type": "code",
   "execution_count": 30,
   "metadata": {},
   "outputs": [
    {
     "name": "stdout",
     "output_type": "stream",
     "text": [
      "[[0.         1.         3.58825427]\n",
      " [0.         2.         4.10314712]\n",
      " [1.         2.         2.70287847]]\n"
     ]
    }
   ],
   "source": [
    "# Cluster separation\n",
    "def cluster_separation(centroids):\n",
    "    combinations = int(len(centroids)*(len(centroids)-1)/2)\n",
    "    #print(combinations)\n",
    "    separations = np.zeros((combinations,3))\n",
    "    #print(separations)\n",
    "\n",
    "    counter = 0\n",
    "    for i in range(0, len(centroids)):\n",
    "        for j in range(i+1, len(centroids)):\n",
    "            separations[counter,0] = i\n",
    "            separations[counter,1] = j\n",
    "            separations[counter,2] = euclidean_dist(centroids[i,],centroids[j,])\n",
    "\n",
    "            counter += 1\n",
    "            \n",
    "    return separations\n",
    "\n",
    "separations = cluster_separation(centroids)\n",
    "print(separations)"
   ]
  },
  {
   "cell_type": "code",
   "execution_count": 40,
   "metadata": {},
   "outputs": [
    {
     "name": "stdout",
     "output_type": "stream",
     "text": [
      "0.5284473281063405\n"
     ]
    }
   ],
   "source": [
    "def DB_index(X,centroids,cluster_table):\n",
    "    sums = within_cluster_dist(X,centroids,cluster_table)\n",
    "    separations = cluster_separation(centroids)\n",
    "\n",
    "\n",
    "    r_s = separations.copy()\n",
    "    for i in range(0, len(r_s)):\n",
    "        index_1 = int(r_s[i,0])\n",
    "        index_2 = int(r_s[i,1])\n",
    "        r_s[i,2] = (sums[index_1]+sums[index_2])/separations[i,2]\n",
    "\n",
    "    d = []\n",
    "    for j in range(0,len(centroids)):\n",
    "\n",
    "        if j==0:\n",
    "            temp1 = r_s[r_s[:,0]==j]\n",
    "            max1 = max(temp1[:,2])\n",
    "            d.append(max1)\n",
    "        elif j==len(centroids)-1:\n",
    "            temp2 = r_s[r_s[:,1]==j]\n",
    "            max2 = max(temp2[:,2])\n",
    "            d.append(max2)\n",
    "        else:\n",
    "            temp1 = r_s[r_s[:,0]==j]\n",
    "            max1 = max(temp1[:,2])\n",
    "            temp2 = r_s[r_s[:,1]==j]\n",
    "            max2 = max(temp2[:,2])\n",
    "            final_max = max(max1,max2)\n",
    "            d.append(final_max)\n",
    "            \n",
    "    DB_index_val = sum(d)/len(centroids)\n",
    "    \n",
    "    return DB_index_val\n",
    "    \n",
    "#print(r_s[:,2])\n",
    "index_val = DB_index(X,centroids,cluster_table)\n",
    "print(DB_index(X,centroids,cluster_table))"
   ]
  },
  {
   "cell_type": "code",
   "execution_count": 8,
   "metadata": {},
   "outputs": [
    {
     "name": "stdout",
     "output_type": "stream",
     "text": [
      "[4.683398513150224, 4.962282131831923, 5.0739966333773925]\n"
     ]
    }
   ],
   "source": [
    "def max_within_distances(X,centroids,cluster_table):\n",
    "\n",
    "    max_within_distances = []\n",
    "    for k in range(0,len(centroids)):\n",
    "        temp_table = cluster_table[cluster_table[:,1]==k]\n",
    "        temp_max = 0\n",
    "        for i in range(0,len(temp_table)):\n",
    "            for j in range(i+1,len(temp_table)):\n",
    "                index_1 = temp_table[i,0]\n",
    "                index_2 = temp_table[j,0]\n",
    "                current_value = euclidean_dist(X[index_1,],X[index_2,])\n",
    "                if current_value>temp_max:\n",
    "                    temp_max = current_value\n",
    "\n",
    "        max_within_distances.append(temp_max)\n",
    "        \n",
    "    return max_within_distances\n",
    "\n",
    "max_within_distances_temp = max_within_distances(X,centroids,cluster_table)\n",
    "\n",
    "\n",
    "print(max_within_distances_temp)\n",
    "            \n",
    "    "
   ]
  },
  {
   "cell_type": "code",
   "execution_count": 10,
   "metadata": {},
   "outputs": [
    {
     "name": "stdout",
     "output_type": "stream",
     "text": [
      "[[0.         1.         1.09459939]\n",
      " [0.         2.         1.4053912 ]\n",
      " [1.         2.         0.75837889]]\n"
     ]
    }
   ],
   "source": [
    "def min_between_distances(X,centroids,cluster_table):\n",
    "\n",
    "    combinations = int(len(centroids)*(len(centroids)-1)/2)\n",
    "    separations = np.zeros((combinations,3))\n",
    "\n",
    "    counter = 0\n",
    "    for i in range(0, len(centroids)):\n",
    "        for j in range(i+1, len(centroids)):\n",
    "            separations[counter,0] = i\n",
    "            separations[counter,1] = j\n",
    "\n",
    "            temp_table1 = cluster_table[cluster_table[:,1]==i]\n",
    "            temp_table2 = cluster_table[cluster_table[:,1]==j]\n",
    "            index_1 = temp_table1[1,0]\n",
    "            index_2 = temp_table2[1,0]\n",
    "            temp_min = euclidean_dist(X[index_1,],X[index_2,])\n",
    "            for l in range(0,len(temp_table1)):\n",
    "                for h in range(0,len(temp_table2)):\n",
    "                    index_1 = temp_table1[l,0]\n",
    "                    index_2 = temp_table2[h,0]\n",
    "                    current_value = euclidean_dist(X[index_1,],X[index_2,])\n",
    "                    if current_value<temp_min:\n",
    "                        temp_min = current_value\n",
    "\n",
    "\n",
    "\n",
    "            separations[counter,2] = temp_min\n",
    "\n",
    "            counter += 1\n",
    "            \n",
    "    return separations\n",
    "\n",
    "separations_temp = min_between_distances(X,centroids,cluster_table)    \n",
    "print(separations_temp)"
   ]
  },
  {
   "cell_type": "code",
   "execution_count": 12,
   "metadata": {},
   "outputs": [
    {
     "name": "stdout",
     "output_type": "stream",
     "text": [
      "0.14946381328503244\n"
     ]
    }
   ],
   "source": [
    "def dunn_index(X,centroids,cluster_table):\n",
    "    separations_temp = min_between_distances(X,centroids,cluster_table)\n",
    "    max_within_distances_temp = max_within_distances(X,centroids,cluster_table)\n",
    "    \n",
    "    result = min(separations_temp[:,2])/max(max_within_distances_temp)\n",
    "    \n",
    "    return result\n",
    "\n",
    "dunn_temp = dunn_index(X,centroids,cluster_table)\n",
    "print(dunn_temp)"
   ]
  },
  {
   "cell_type": "code",
   "execution_count": null,
   "metadata": {},
   "outputs": [],
   "source": []
  },
  {
   "cell_type": "code",
   "execution_count": 25,
   "metadata": {},
   "outputs": [
    {
     "name": "stdout",
     "output_type": "stream",
     "text": [
      "[  0   2  52  60   3  83  23 101 130 155 191  33  45 100 274]\n",
      "[14]\n",
      "[[605551.17948718 572681.6996337 ]\n",
      " [545382.2        607141.2       ]\n",
      " [534267.5        511028.        ]\n",
      " [688015.         533535.        ]\n",
      " [598545.66666667 493389.66666667]\n",
      " [625820.66666667 663622.        ]\n",
      " [670503.5        617924.5       ]\n",
      " [705449.66666667 604209.33333333]\n",
      " [538571.         654649.        ]\n",
      " [657985.         453405.        ]\n",
      " [695646.         652231.        ]\n",
      " [563460.         480559.        ]\n",
      " [522993.         595581.        ]\n",
      " [707049.         618211.        ]\n",
      " [659529.         498474.        ]]\n"
     ]
    }
   ],
   "source": [
    "#### NOT USED CURRENTLY!\n",
    "\n",
    "# Assign the new centroids\n",
    "K = 15\n",
    "d = 2\n",
    "\n",
    "#points_set['Cluster'].nunique()\n",
    "uniques = pd.DataFrame(result).iloc[:,1]\n",
    "uniques = uniques.unique()\n",
    "print(uniques)\n",
    "\n",
    "# Get where the current cluster value is\n",
    "index = int(result[0,1])\n",
    "index = 274\n",
    "#index = uniques[index]\n",
    "unique_places = np.array([i==index for i in uniques])\n",
    "temp = np.where(unique_places)[0]\n",
    "print(temp)\n",
    "\n",
    "indexer = 0\n",
    "\n",
    "# Loop over the clusters table and assign cluster names\n",
    "# going from 0-15 (basically just renaming clusters for convenience)\n",
    "for i in range(0,len(result)):\n",
    "    # Getting the current cluster label\n",
    "    index = int(result[i,1]) \n",
    "    # Searching the current cluster label in the list of unique labels\n",
    "    unique_places = np.array([i==index for i in uniques])\n",
    "    \n",
    "    # Assign the relative location of the current label to the range of 0-15\n",
    "    temp = np.where(unique_places)[0]\n",
    "    result[i,1] = temp\n",
    "\n",
    "# Initialize the centroids to be 0\n",
    "centroids2 = np.zeros((K, d))\n",
    "\n",
    "for i in range(0,K):\n",
    "            # Filter for points in the given cluster\n",
    "            temp_table2 = result[result[:,1]==i]\n",
    "\n",
    "            # Calculating new centroids\n",
    "            temp_array = np.zeros((len(temp_table2),d))\n",
    "            counter = 0\n",
    "\n",
    "            for j in temp_table2[:,0]:\n",
    "                temp_array[counter,:] = X[j,:]\n",
    "                counter += 1\n",
    "\n",
    "            # Assign the new centroids - coordinate-wise mean of points in the cluster\n",
    "            centroids2[i,:] = np.mean(temp_array, axis=0)\n",
    "            \n",
    "#print(centroids2)\n",
    "\n",
    "\n",
    "def centroid_calc_for_mst(K,d,result,X):\n",
    "    \"\"\"Calculates the centroids of the clusters\n",
    "    found by the MST method\"\"\"\n",
    "    \n",
    "    # Get current unique labels\n",
    "    uniques = pd.DataFrame(result).iloc[:,1]\n",
    "    uniques = uniques.unique()\n",
    "    \n",
    "    # Loop over the clusters table and assign cluster names\n",
    "    # going from 0-15 (basically just renaming clusters for convenience)\n",
    "    for i in range(0,len(result)):\n",
    "        # Getting the current cluster label\n",
    "        index = int(result[i,1]) \n",
    "        # Searching the current cluster label in the list of unique labels\n",
    "        unique_places = np.array([i==index for i in uniques])\n",
    "\n",
    "        # Assign the relative location of the current label to the range of 0-15\n",
    "        temp = np.where(unique_places)[0]\n",
    "        result[i,1] = temp\n",
    "\n",
    "    # Initialize the centroids to be 0\n",
    "    centroids2 = np.zeros((K, d))\n",
    "\n",
    "    for i in range(0,K):\n",
    "                # Filter for points in the given cluster\n",
    "                temp_table2 = result[result[:,1]==i]\n",
    "\n",
    "                # Calculating new centroids\n",
    "                temp_array = np.zeros((len(temp_table2),d))\n",
    "                counter = 0\n",
    "\n",
    "                for j in temp_table2[:,0]:\n",
    "                    temp_array[counter,:] = X[j,:]\n",
    "                    counter += 1\n",
    "\n",
    "                # Assign the new centroids - coordinate-wise mean of points in the cluster\n",
    "                centroids2[i,:] = np.mean(temp_array, axis=0)\n",
    "\n",
    "    return centroids2\n",
    "\n",
    "\n",
    "mst_centroids = centroid_calc_for_mst(K,d,result,X)\n",
    "print(mst_centroids)"
   ]
  }
 ],
 "metadata": {
  "kernelspec": {
   "display_name": "Python 3",
   "language": "python",
   "name": "python3"
  },
  "language_info": {
   "codemirror_mode": {
    "name": "ipython",
    "version": 3
   },
   "file_extension": ".py",
   "mimetype": "text/x-python",
   "name": "python",
   "nbconvert_exporter": "python",
   "pygments_lexer": "ipython3",
   "version": "3.7.4"
  },
  "toc": {
   "base_numbering": 1,
   "nav_menu": {},
   "number_sections": true,
   "sideBar": true,
   "skip_h1_title": false,
   "title_cell": "Table of Contents",
   "title_sidebar": "Contents",
   "toc_cell": false,
   "toc_position": {},
   "toc_section_display": true,
   "toc_window_display": true
  }
 },
 "nbformat": 4,
 "nbformat_minor": 2
}

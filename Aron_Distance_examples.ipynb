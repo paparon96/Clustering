{
 "cells": [
  {
   "cell_type": "code",
   "execution_count": 1,
   "metadata": {},
   "outputs": [],
   "source": [
    "# Import some modules which we will use later\n",
    "\n",
    "import numpy as np\n",
    "import pandas as pd\n",
    "import matplotlib.pyplot as plt\n",
    "import math\n",
    "import copy\n",
    "\n",
    "\n",
    "%matplotlib inline"
   ]
  },
  {
   "cell_type": "markdown",
   "metadata": {},
   "source": [
    "## Functions"
   ]
  },
  {
   "cell_type": "code",
   "execution_count": 41,
   "metadata": {},
   "outputs": [],
   "source": [
    "# Define custom function\n",
    "\n",
    "def euclidean_dist(x,y):\n",
    "    \"\"\"Calculates Euclidean distance between 2 n-dimensional vectors\"\"\"\n",
    "    temp = x-y\n",
    "    temp_2 = temp**2\n",
    "    temp_sum = sum(temp_2)\n",
    "    temp_sqrt = math.sqrt(temp_sum)\n",
    "    \n",
    "    return temp_sqrt\n",
    "\n",
    "\n",
    "def adjacency_matrix(X):\n",
    "    \"\"\"Calculates distance matrix of input data points\"\"\"\n",
    "    n = X.shape[0]\n",
    "    dist_matrix = np.zeros((n, n))\n",
    "    for i in range(0,n):\n",
    "        for j in range(i+1,n):\n",
    "            dist_matrix[i,j]=euclidean_dist(np.array(X.iloc[i,]),np.array(X.iloc[j,]))\n",
    "            \n",
    "    return dist_matrix\n",
    "\n",
    "\n",
    "def benchmark_data_generation(n,p,K,std):\n",
    "    \"\"\"Generates benchmak data for clustering\"\"\"\n",
    "\n",
    "    from sklearn.datasets.samples_generator import make_blobs\n",
    "    X, y = make_blobs(n_samples=n, centers=K, n_features = p,\n",
    "                  random_state=0, cluster_std=std)\n",
    "    \n",
    "    return X, y\n",
    "\n",
    "def edge_vector(dist_matrix):\n",
    "    \"\"\"Creates list of edges/vertices with the corresponding distance\"\"\"\n",
    "    n=len(dist_matrix)\n",
    "    n_rows = int(n*(n-1)*(0.5))\n",
    "    edge_dist = np.zeros((n_rows, 3))\n",
    "    \n",
    "    counter = 0\n",
    "    \n",
    "    for i in range(0,n):\n",
    "        for j in range(i+1,n):\n",
    "            \n",
    "            edge_dist[counter,0] = i\n",
    "            edge_dist[counter,1] = j\n",
    "            edge_dist[counter,2] = dist_matrix[i,j]\n",
    "            counter += 1\n",
    "            \n",
    "    return edge_dist\n",
    "\n",
    "def edge_sorting(edge_vector):\n",
    "    \"\"\"Sorts the list of edges/distances\"\"\"\n",
    "    sorted_matrix = edge_vector[edge_vector[:, -1].argsort()]\n",
    "    \n",
    "    return sorted_matrix\n",
    "\n",
    "\n",
    "def k_means_clustering(K,X):\n",
    "    n = X.shape[0] # Number of observations\n",
    "    d = X.shape[1] # dimensions\n",
    "    X = np.array(X) # Convert pandas dataframe to numpy array\n",
    "\n",
    "    # STEP 0\n",
    "    # Get initial starting points\n",
    "    initial_indices = np.random.randint(0,high=n,size=K) # Initial indices\n",
    "    print(initial_indices)\n",
    "\n",
    "    centroids = np.zeros((K, d))\n",
    "\n",
    "    counter = 0\n",
    "    for i in initial_indices:\n",
    "        centroids[counter,:] = X[i,:]\n",
    "        counter += 1\n",
    "\n",
    "    #print(centroids)\n",
    "\n",
    "    # STEP 1\n",
    "    # Assign points to centroids\n",
    "    cluster_table = np.zeros((n, 2))\n",
    "    cluster_table[:,0] = np.arange(0,n,1)\n",
    "    cluster_table = cluster_table.astype(int)\n",
    "    \n",
    "    \n",
    "    change_tracker = True\n",
    "    \n",
    "    cost_values = []\n",
    "    # Big loop\n",
    "    while change_tracker:\n",
    "        overall_change = 0\n",
    "        for i in range(0,n):\n",
    "            current_cluster = int(cluster_table[i,1])\n",
    "            #print(current_cluster)\n",
    "            current_dist = euclidean_dist(X[i,],centroids[current_cluster,])\n",
    "            for j in range(0,K):\n",
    "                temp = euclidean_dist(X[i,],centroids[j,])\n",
    "                if temp<current_dist:\n",
    "                    cluster_table[i,1]=j\n",
    "                    current_dist = temp\n",
    "\n",
    "                    overall_change += 1\n",
    "\n",
    "        if overall_change == 0:\n",
    "            change_tracker = False\n",
    "\n",
    "        # STEP 2\n",
    "        # Recalculate centroids\n",
    "        #print(cluster_table)\n",
    "\n",
    "        # Filter observations\n",
    "        temp_table = cluster_table[cluster_table[:,1]==0]\n",
    "        #print(temp_table)\n",
    "\n",
    "        for i in range(0,K):\n",
    "            # Filter for points in the given cluster\n",
    "            temp_table2 = cluster_table[cluster_table[:,1]==i]\n",
    "\n",
    "            # Calculating new centroids\n",
    "            temp_array = np.zeros((len(temp_table2),d))\n",
    "            counter = 0\n",
    "\n",
    "            for j in temp_table2[:,0]:\n",
    "                temp_array[counter,:] = X[j,:]\n",
    "                counter += 1\n",
    "\n",
    "            # Assign the new centroids\n",
    "            centroids[i,:] = np.mean(temp_array, axis=0)\n",
    "            \n",
    "        cost_values.append(DB_index(X,centroids,cluster_table))\n",
    "            \n",
    "    return centroids, cluster_table, cost_values\n",
    "\n",
    "\n",
    "# Within cluster distances\n",
    "def within_cluster_dist(X,centroids,cluster_table):\n",
    "    sums = []\n",
    "    for i in range(0,len(centroids)):\n",
    "        temp = cluster_table[cluster_table[:,1]==i]\n",
    "        temp_sum = 0\n",
    "\n",
    "        for j in range(0,len(temp)):\n",
    "            index = temp[j,0]\n",
    "            current_dist = euclidean_dist(X[index,],centroids[i,])\n",
    "            temp_sum += current_dist\n",
    "\n",
    "        temp_sum = math.sqrt(temp_sum/len(temp))\n",
    "\n",
    "        sums.append(temp_sum)\n",
    "        \n",
    "    return sums\n",
    "\n",
    "# Cluster separation\n",
    "def cluster_separation(centroids):\n",
    "    combinations = int(len(centroids)*(len(centroids)-1)/2)\n",
    "    #print(combinations)\n",
    "    separations = np.zeros((combinations,3))\n",
    "    #print(separations)\n",
    "\n",
    "    counter = 0\n",
    "    for i in range(0, len(centroids)):\n",
    "        for j in range(i+1, len(centroids)):\n",
    "            separations[counter,0] = i\n",
    "            separations[counter,1] = j\n",
    "            separations[counter,2] = euclidean_dist(centroids[i,],centroids[j,])\n",
    "\n",
    "            counter += 1\n",
    "            \n",
    "    return separations\n",
    "\n",
    "# Calculates Davies-Bouldien index\n",
    "def DB_index(X,centroids,cluster_table):\n",
    "    sums = within_cluster_dist(X,centroids,cluster_table)\n",
    "    separations = cluster_separation(centroids)\n",
    "\n",
    "\n",
    "    r_s = separations.copy()\n",
    "    for i in range(0, len(r_s)):\n",
    "        index_1 = int(r_s[i,0])\n",
    "        index_2 = int(r_s[i,1])\n",
    "        r_s[i,2] = (sums[index_1]+sums[index_2])/separations[i,2]\n",
    "\n",
    "    d = []\n",
    "    for j in range(0,len(centroids)):\n",
    "\n",
    "        if j==0:\n",
    "            temp1 = r_s[r_s[:,0]==j]\n",
    "            max1 = max(temp1[:,2])\n",
    "            d.append(max1)\n",
    "        elif j==len(centroids)-1:\n",
    "            temp2 = r_s[r_s[:,1]==j]\n",
    "            max2 = max(temp2[:,2])\n",
    "            d.append(max2)\n",
    "        else:\n",
    "            temp1 = r_s[r_s[:,0]==j]\n",
    "            max1 = max(temp1[:,2])\n",
    "            temp2 = r_s[r_s[:,1]==j]\n",
    "            max2 = max(temp2[:,2])\n",
    "            final_max = max(max1,max2)\n",
    "            d.append(final_max)\n",
    "            \n",
    "    DB_index_val = sum(d)/len(centroids)\n",
    "    \n",
    "    return DB_index_val\n",
    "    "
   ]
  },
  {
   "cell_type": "code",
   "execution_count": 3,
   "metadata": {},
   "outputs": [
    {
     "name": "stdout",
     "output_type": "stream",
     "text": [
      "2.23606797749979\n"
     ]
    }
   ],
   "source": [
    "# Test the custom function\n",
    "\n",
    "x = np.array([1,2,3])\n",
    "y = np.array([1,1,1])\n",
    "\n",
    "print(euclidean_dist(x,y))"
   ]
  },
  {
   "cell_type": "code",
   "execution_count": 4,
   "metadata": {
    "scrolled": true
   },
   "outputs": [
    {
     "name": "stdout",
     "output_type": "stream",
     "text": [
      "100\n",
      "0.006729006703392466\n",
      "      point_1  point_2  distance\n",
      "3894     53.0     79.0  0.006729\n"
     ]
    },
    {
     "data": {
      "image/png": "[encoded data removed]",
      "text/plain": [
       "<Figure size 432x288 with 1 Axes>"
      ]
     },
     "metadata": {
      "needs_background": "light"
     },
     "output_type": "display_data"
    },
    {
     "name": "stdout",
     "output_type": "stream",
     "text": [
      "      index  point_1  point_2  distance\n",
      "0      3770     50.0     96.0  1.305231\n",
      "1      3743     50.0     69.0  1.265085\n",
      "2       386      3.0     96.0  1.240727\n",
      "3      2245     25.0     96.0  1.218423\n",
      "4       359      3.0     69.0  1.205245\n",
      "...     ...      ...      ...       ...\n",
      "4945   1233     13.0     38.0  0.021243\n",
      "4946   4047     57.0     58.0  0.018763\n",
      "4947   1094     11.0     72.0  0.015639\n",
      "4948   3586     47.0     62.0  0.015289\n",
      "4949   3894     53.0     79.0  0.006729\n",
      "\n",
      "[4950 rows x 4 columns]\n"
     ]
    },
    {
     "data": {
      "image/png": "[encoded data removed]",
      "text/plain": [
       "<Figure size 432x288 with 1 Axes>"
      ]
     },
     "metadata": {
      "needs_background": "light"
     },
     "output_type": "display_data"
    }
   ],
   "source": [
    "# Quick and dirty check for finding the 2 closest points\n",
    "\n",
    "points = np.random.rand(100,2)\n",
    "\n",
    "print(len(points))\n",
    "#print(points)\n",
    "\n",
    "results = np.random.rand(1,3)\n",
    "\n",
    "for i in range(0,len(points)):\n",
    "    for j in range(i+1,len(points)):\n",
    "        dist = np.linalg.norm(points[i,:]-points[j,:])\n",
    "        temp = np.array([i,j,dist]).reshape(1,3)\n",
    "        #print(temp.shape)\n",
    "        #print(results.shape)\n",
    "        results = np.vstack((results,temp))\n",
    "\n",
    "results = results[1:,:]        \n",
    "#print(results)\n",
    "print(min(results[:,2]))\n",
    "a = min(results[:,2])\n",
    "\n",
    "\n",
    "results = pd.DataFrame(results)\n",
    "results.columns = ['point_1','point_2','distance']\n",
    "#print(results.columns)\n",
    "\n",
    "# Get the closest point\n",
    "print(results[results['distance']<=a])\n",
    "\n",
    "\n",
    "# Plot histogram of distance\n",
    "plt.hist(results['distance'])\n",
    "plt.show()\n",
    "\n",
    "# Distance-sorted array\n",
    "sorted_results = results.sort_values(by=['distance'],ascending=False).reset_index()\n",
    "print(sorted_results)\n",
    "plt.plot(sorted_results['distance'])\n",
    "plt.show()"
   ]
  },
  {
   "cell_type": "code",
   "execution_count": 65,
   "metadata": {},
   "outputs": [],
   "source": [
    "# Benchmark data generation\n",
    "from sklearn.datasets.samples_generator import make_blobs\n",
    "X, y = make_blobs(n_samples=60, centers=5,n_features = 2,\n",
    "                  random_state=0, cluster_std=0.2)"
   ]
  },
  {
   "cell_type": "code",
   "execution_count": 66,
   "metadata": {},
   "outputs": [
    {
     "name": "stdout",
     "output_type": "stream",
     "text": [
      "60\n"
     ]
    }
   ],
   "source": [
    "X = pd.DataFrame(X)\n",
    "print(X.shape[0])"
   ]
  },
  {
   "cell_type": "code",
   "execution_count": 67,
   "metadata": {},
   "outputs": [],
   "source": [
    "dist_matrix = np.zeros((len(y), len(y)))"
   ]
  },
  {
   "cell_type": "code",
   "execution_count": 68,
   "metadata": {},
   "outputs": [],
   "source": [
    "for i in range(0,len(y)):\n",
    "    for j in range(i+1,len(y)):\n",
    "        dist_matrix[i,j]=euclidean_dist(np.array(X.iloc[i,]),np.array(X.iloc[j,]))"
   ]
  },
  {
   "cell_type": "code",
   "execution_count": 69,
   "metadata": {},
   "outputs": [
    {
     "name": "stdout",
     "output_type": "stream",
     "text": [
      "[[ 0.          0.32836797 14.35833286 ...  4.20854786  4.17960279\n",
      "   5.30726092]\n",
      " [ 0.          0.         14.36333435 ...  4.30605762  4.25097055\n",
      "   5.55465888]\n",
      " [ 0.          0.          0.         ... 10.34893277 10.2705343\n",
      "  11.46289776]\n",
      " ...\n",
      " [ 0.          0.          0.         ...  0.          0.3515184\n",
      "   2.87017855]\n",
      " [ 0.          0.          0.         ...  0.          0.\n",
      "   3.22153427]\n",
      " [ 0.          0.          0.         ...  0.          0.\n",
      "   0.        ]]\n"
     ]
    }
   ],
   "source": [
    "print(dist_matrix)"
   ]
  },
  {
   "cell_type": "code",
   "execution_count": 70,
   "metadata": {},
   "outputs": [
    {
     "name": "stdout",
     "output_type": "stream",
     "text": [
      "60\n"
     ]
    }
   ],
   "source": [
    "temp = adjacency_matrix(X)\n",
    "print(len(temp))"
   ]
  },
  {
   "cell_type": "code",
   "execution_count": 72,
   "metadata": {},
   "outputs": [
    {
     "name": "stdout",
     "output_type": "stream",
     "text": [
      "1770\n",
      "[ 0.         22.          4.24637891]\n"
     ]
    }
   ],
   "source": [
    "temp_vector = edge_vector(temp)\n",
    "print(len(temp_vector))\n",
    "print(temp_vector[21,:])"
   ]
  },
  {
   "cell_type": "code",
   "execution_count": 73,
   "metadata": {},
   "outputs": [
    {
     "name": "stdout",
     "output_type": "stream",
     "text": [
      "1770\n"
     ]
    }
   ],
   "source": [
    "sorted_list = edge_sorting(temp_vector)\n",
    "print(len(sorted_list))"
   ]
  },
  {
   "cell_type": "code",
   "execution_count": 74,
   "metadata": {},
   "outputs": [
    {
     "name": "stdout",
     "output_type": "stream",
     "text": [
      "[37 19  9 50 24]\n",
      "[[ 0.98542178  4.26635056]\n",
      " [ 1.98568509  0.92893345]\n",
      " [-1.68953327  2.57262574]\n",
      " [-1.22287336  7.91585789]\n",
      " [ 9.646767   -2.14996069]]\n",
      "[[ 0  3]\n",
      " [ 1  3]\n",
      " [ 2  4]\n",
      " [ 3  1]\n",
      " [ 4  2]\n",
      " [ 5  0]\n",
      " [ 6  3]\n",
      " [ 7  3]\n",
      " [ 8  4]\n",
      " [ 9  2]\n",
      " [10  0]\n",
      " [11  3]\n",
      " [12  1]\n",
      " [13  4]\n",
      " [14  1]\n",
      " [15  3]\n",
      " [16  1]\n",
      " [17  1]\n",
      " [18  1]\n",
      " [19  1]\n",
      " [20  4]\n",
      " [21  4]\n",
      " [22  0]\n",
      " [23  1]\n",
      " [24  4]\n",
      " [25  2]\n",
      " [26  3]\n",
      " [27  2]\n",
      " [28  1]\n",
      " [29  2]\n",
      " [30  2]\n",
      " [31  4]\n",
      " [32  0]\n",
      " [33  2]\n",
      " [34  4]\n",
      " [35  1]\n",
      " [36  0]\n",
      " [37  0]\n",
      " [38  1]\n",
      " [39  4]\n",
      " [40  4]\n",
      " [41  0]\n",
      " [42  0]\n",
      " [43  3]\n",
      " [44  3]\n",
      " [45  0]\n",
      " [46  4]\n",
      " [47  2]\n",
      " [48  4]\n",
      " [49  2]\n",
      " [50  3]\n",
      " [51  2]\n",
      " [52  1]\n",
      " [53  3]\n",
      " [54  0]\n",
      " [55  3]\n",
      " [56  2]\n",
      " [57  0]\n",
      " [58  0]\n",
      " [59  2]]\n",
      "[[ 5  0]\n",
      " [10  0]\n",
      " [22  0]\n",
      " [32  0]\n",
      " [36  0]\n",
      " [37  0]\n",
      " [41  0]\n",
      " [42  0]\n",
      " [45  0]\n",
      " [54  0]\n",
      " [57  0]\n",
      " [58  0]]\n",
      "[[ 1.05265327  4.28690396]\n",
      " [ 1.9385333   0.92517922]\n",
      " [-1.60284845  2.85541324]\n",
      " [-1.21824977  7.96700915]\n",
      " [ 9.3403589  -2.20695465]]\n",
      "60\n"
     ]
    }
   ],
   "source": [
    "# Parameters\n",
    "K = 5 # Number of clusters\n",
    "n = X.shape[0] # Number of observations\n",
    "d = X.shape[1] # dimensions\n",
    "X = np.array(X) # Convert pandas dataframe to numpy array\n",
    "\n",
    "# STEP 0\n",
    "# Get initial starting points\n",
    "initial_indices = np.random.randint(0,high=n,size=K) # Initial indices\n",
    "print(initial_indices)\n",
    "\n",
    "centroids = np.zeros((K, d))\n",
    "\n",
    "counter = 0\n",
    "for i in initial_indices:\n",
    "    centroids[counter,:] = X[i,:]\n",
    "    counter += 1\n",
    "\n",
    "print(centroids)\n",
    "\n",
    "# STEP 1\n",
    "# Assign points to centroids\n",
    "cluster_table = np.zeros((n, 2))\n",
    "cluster_table[:,0] = np.arange(0,n,1)\n",
    "cluster_table = cluster_table.astype(int)\n",
    "\n",
    "change_tracker = True\n",
    "overall_change = 0\n",
    "for i in range(0,n):\n",
    "    current_cluster = int(cluster_table[i,1])\n",
    "    #print(current_cluster)\n",
    "    current_dist = euclidean_dist(X[i,],centroids[current_cluster,])\n",
    "    for j in range(0,K):\n",
    "        temp = euclidean_dist(X[i,],centroids[j,])\n",
    "        if temp<current_dist:\n",
    "            cluster_table[i,1]=j\n",
    "            current_dist = temp\n",
    "            \n",
    "            overall_change += 1\n",
    "            \n",
    "if overall_change == 0:\n",
    "    change_tracker = False\n",
    "\n",
    "# STEP 2\n",
    "# Recalculate centroids\n",
    "print(cluster_table)\n",
    "\n",
    "# Filter observations\n",
    "temp_table = cluster_table[cluster_table[:,1]==0]\n",
    "print(temp_table)\n",
    "\n",
    "for i in range(0,K):\n",
    "    # Filter for points in the given cluster\n",
    "    temp_table2 = cluster_table[cluster_table[:,1]==i]\n",
    "    \n",
    "    # Calculating new centroids\n",
    "    temp_array = np.zeros((len(temp_table2),d))\n",
    "    counter = 0\n",
    "    \n",
    "    for j in temp_table2[:,0]:\n",
    "        temp_array[counter,:] = X[j,:]\n",
    "        counter += 1\n",
    "    \n",
    "    # Assign the new centroids\n",
    "    centroids[i,:] = np.mean(temp_array, axis=0)\n",
    "    \n",
    "\n",
    "print(centroids)\n",
    "print(overall_change)"
   ]
  },
  {
   "cell_type": "code",
   "execution_count": 75,
   "metadata": {},
   "outputs": [],
   "source": [
    "def k_means_clustering(K,X):\n",
    "    n = X.shape[0] # Number of observations\n",
    "    d = X.shape[1] # dimensions\n",
    "    X = np.array(X) # Convert pandas dataframe to numpy array\n",
    "\n",
    "    # STEP 0\n",
    "    # Get initial starting points\n",
    "    initial_indices = np.random.randint(0,high=n,size=K) # Initial indices\n",
    "    print(initial_indices)\n",
    "\n",
    "    centroids = np.zeros((K, d))\n",
    "\n",
    "    counter = 0\n",
    "    for i in initial_indices:\n",
    "        centroids[counter,:] = X[i,:]\n",
    "        counter += 1\n",
    "\n",
    "    #print(centroids)\n",
    "\n",
    "    # STEP 1\n",
    "    # Assign points to centroids\n",
    "    cluster_table = np.zeros((n, 2))\n",
    "    cluster_table[:,0] = np.arange(0,n,1)\n",
    "    cluster_table = cluster_table.astype(int)\n",
    "    \n",
    "    \n",
    "    change_tracker = True\n",
    "    \n",
    "    # Big loop\n",
    "    while change_tracker:\n",
    "        overall_change = 0\n",
    "        for i in range(0,n):\n",
    "            current_cluster = int(cluster_table[i,1])\n",
    "            #print(current_cluster)\n",
    "            current_dist = euclidean_dist(X[i,],centroids[current_cluster,])\n",
    "            for j in range(0,K):\n",
    "                temp = euclidean_dist(X[i,],centroids[j,])\n",
    "                if temp<current_dist:\n",
    "                    cluster_table[i,1]=j\n",
    "                    current_dist = temp\n",
    "\n",
    "                    overall_change += 1\n",
    "\n",
    "        if overall_change == 0:\n",
    "            change_tracker = False\n",
    "\n",
    "        # STEP 2\n",
    "        # Recalculate centroids\n",
    "        #print(cluster_table)\n",
    "\n",
    "        # Filter observations\n",
    "        temp_table = cluster_table[cluster_table[:,1]==0]\n",
    "        #print(temp_table)\n",
    "\n",
    "        for i in range(0,K):\n",
    "            # Filter for points in the given cluster\n",
    "            temp_table2 = cluster_table[cluster_table[:,1]==i]\n",
    "\n",
    "            # Calculating new centroids\n",
    "            temp_array = np.zeros((len(temp_table2),d))\n",
    "            counter = 0\n",
    "\n",
    "            for j in temp_table2[:,0]:\n",
    "                temp_array[counter,:] = X[j,:]\n",
    "                counter += 1\n",
    "\n",
    "            # Assign the new centroids\n",
    "            centroids[i,:] = np.mean(temp_array, axis=0)\n",
    "            \n",
    "    return centroids, cluster_table\n",
    "    "
   ]
  },
  {
   "cell_type": "markdown",
   "metadata": {},
   "source": [
    "## Testing"
   ]
  },
  {
   "cell_type": "code",
   "execution_count": 48,
   "metadata": {},
   "outputs": [],
   "source": [
    "X, y = benchmark_data_generation(n=60,p=2,K=3,std = 1.3)"
   ]
  },
  {
   "cell_type": "code",
   "execution_count": 49,
   "metadata": {},
   "outputs": [
    {
     "name": "stdout",
     "output_type": "stream",
     "text": [
      "[ 3 43 25]\n",
      "[[ 1.73668459  4.35318463]\n",
      " [ 1.14796707  0.84846806]\n",
      " [-1.83290519  4.27191308]]\n",
      "[0.9299364621275132, 0.9486700328489518, 0.9522387901858561, 0.9694465416137387, 0.9886503862565218, 0.9768835146665537, 0.8530188202379935, 0.7073711480650994, 0.6765242056241018, 0.6667639368387491, 0.6535265462903607, 0.6422597600485054, 0.6422597600485054]\n"
     ]
    },
    {
     "data": {
      "image/png": "[encoded data removed]",
      "text/plain": [
       "<Figure size 432x288 with 1 Axes>"
      ]
     },
     "metadata": {
      "needs_background": "light"
     },
     "output_type": "display_data"
    }
   ],
   "source": [
    "centroids, cluster_table, cost_values = k_means_clustering(3,X)\n",
    "print(centroids)\n",
    "#print(cluster_table)\n",
    "print(cost_values)\n",
    "plt.plot(cost_values)\n",
    "plt.title(\" Davies-Bouldin index value in consecutive iterations of the K-means algorithm\")\n",
    "plt.show()"
   ]
  },
  {
   "cell_type": "code",
   "execution_count": 43,
   "metadata": {
    "scrolled": true
   },
   "outputs": [
    {
     "data": {
      "image/png": "[encoded data removed]",
      "text/plain": [
       "<Figure size 432x288 with 1 Axes>"
      ]
     },
     "metadata": {
      "needs_background": "light"
     },
     "output_type": "display_data"
    },
    {
     "data": {
      "image/png": "[encoded data removed]",
      "text/plain": [
       "<Figure size 432x288 with 1 Axes>"
      ]
     },
     "metadata": {
      "needs_background": "light"
     },
     "output_type": "display_data"
    }
   ],
   "source": [
    "# Scatter plot - ORIGINAL\n",
    "fig,ax = plt.subplots()\n",
    "plt.axes().set_aspect('equal')\n",
    "scatter=plt.scatter(X[:, 0], X[:, 1], c=y, s=50 , cmap='rainbow');\n",
    "# produce a legend with the unique colors from the scatter\n",
    "legend1 = plt.legend(*scatter.legend_elements(),\n",
    "                    loc=\"upper right\", title=\"True classes\")\n",
    "plt.show()\n",
    "\n",
    "# Scatter plot - K-MEANS\n",
    "fig,ax = plt.subplots()\n",
    "plt.axes().set_aspect('equal')\n",
    "scatter=plt.scatter(X[:, 0], X[:, 1], c=cluster_table[:,1], s=50 , cmap='rainbow');\n",
    "# produce a legend with the unique colors from the scatter\n",
    "legend1 = plt.legend(*scatter.legend_elements(),\n",
    "                    loc=\"upper right\", title=\"Assigned classes\")\n",
    "plt.show()"
   ]
  },
  {
   "cell_type": "code",
   "execution_count": 29,
   "metadata": {},
   "outputs": [
    {
     "name": "stdout",
     "output_type": "stream",
     "text": [
      "[0.7261200296029495, 0.7964911256275813, 0.7725433034317905]\n"
     ]
    }
   ],
   "source": [
    "# Distances\n",
    "def within_cluster_dist(X,centroids,cluster_table):\n",
    "    sums = []\n",
    "    for i in range(0,len(centroids)):\n",
    "        temp = cluster_table[cluster_table[:,1]==i]\n",
    "        temp_sum = 0\n",
    "\n",
    "        for j in range(0,len(temp)):\n",
    "            index = temp[j,0]\n",
    "            current_dist = euclidean_dist(X[index,],centroids[i,])\n",
    "            temp_sum += current_dist\n",
    "\n",
    "        temp_sum = math.sqrt(temp_sum/len(temp))\n",
    "\n",
    "        sums.append(temp_sum)\n",
    "        \n",
    "    return sums\n",
    "\n",
    "sums = within_cluster_dist(X,centroids,cluster_table)\n",
    "\n",
    "\n",
    "print(sums)\n",
    "        "
   ]
  },
  {
   "cell_type": "code",
   "execution_count": 30,
   "metadata": {},
   "outputs": [
    {
     "name": "stdout",
     "output_type": "stream",
     "text": [
      "[[0.         1.         3.58825427]\n",
      " [0.         2.         4.10314712]\n",
      " [1.         2.         2.70287847]]\n"
     ]
    }
   ],
   "source": [
    "# Cluster separation\n",
    "def cluster_separation(centroids):\n",
    "    combinations = int(len(centroids)*(len(centroids)-1)/2)\n",
    "    #print(combinations)\n",
    "    separations = np.zeros((combinations,3))\n",
    "    #print(separations)\n",
    "\n",
    "    counter = 0\n",
    "    for i in range(0, len(centroids)):\n",
    "        for j in range(i+1, len(centroids)):\n",
    "            separations[counter,0] = i\n",
    "            separations[counter,1] = j\n",
    "            separations[counter,2] = euclidean_dist(centroids[i,],centroids[j,])\n",
    "\n",
    "            counter += 1\n",
    "            \n",
    "    return separations\n",
    "\n",
    "separations = cluster_separation(centroids)\n",
    "print(separations)"
   ]
  },
  {
   "cell_type": "code",
   "execution_count": 40,
   "metadata": {},
   "outputs": [
    {
     "name": "stdout",
     "output_type": "stream",
     "text": [
      "0.5284473281063405\n"
     ]
    }
   ],
   "source": [
    "def DB_index(X,centroids,cluster_table):\n",
    "    sums = within_cluster_dist(X,centroids,cluster_table)\n",
    "    separations = cluster_separation(centroids)\n",
    "\n",
    "\n",
    "    r_s = separations.copy()\n",
    "    for i in range(0, len(r_s)):\n",
    "        index_1 = int(r_s[i,0])\n",
    "        index_2 = int(r_s[i,1])\n",
    "        r_s[i,2] = (sums[index_1]+sums[index_2])/separations[i,2]\n",
    "\n",
    "    d = []\n",
    "    for j in range(0,len(centroids)):\n",
    "\n",
    "        if j==0:\n",
    "            temp1 = r_s[r_s[:,0]==j]\n",
    "            max1 = max(temp1[:,2])\n",
    "            d.append(max1)\n",
    "        elif j==len(centroids)-1:\n",
    "            temp2 = r_s[r_s[:,1]==j]\n",
    "            max2 = max(temp2[:,2])\n",
    "            d.append(max2)\n",
    "        else:\n",
    "            temp1 = r_s[r_s[:,0]==j]\n",
    "            max1 = max(temp1[:,2])\n",
    "            temp2 = r_s[r_s[:,1]==j]\n",
    "            max2 = max(temp2[:,2])\n",
    "            final_max = max(max1,max2)\n",
    "            d.append(final_max)\n",
    "            \n",
    "    DB_index_val = sum(d)/len(centroids)\n",
    "    \n",
    "    return DB_index_val\n",
    "    \n",
    "#print(r_s[:,2])\n",
    "index_val = DB_index(X,centroids,cluster_table)\n",
    "print(DB_index(X,centroids,cluster_table))"
   ]
  },
  {
   "cell_type": "code",
   "execution_count": null,
   "metadata": {},
   "outputs": [],
   "source": []
  }
 ],
 "metadata": {
  "kernelspec": {
   "display_name": "Python 3",
   "language": "python",
   "name": "python3"
  },
  "language_info": {
   "codemirror_mode": {
    "name": "ipython",
    "version": 3
   },
   "file_extension": ".py",
   "mimetype": "text/x-python",
   "name": "python",
   "nbconvert_exporter": "python",
   "pygments_lexer": "ipython3",
   "version": "3.7.4"
  },
  "toc": {
   "base_numbering": 1,
   "nav_menu": {},
   "number_sections": true,
   "sideBar": true,
   "skip_h1_title": false,
   "title_cell": "Table of Contents",
   "title_sidebar": "Contents",
   "toc_cell": false,
   "toc_position": {},
   "toc_section_display": true,
   "toc_window_display": true
  }
 },
 "nbformat": 4,
 "nbformat_minor": 2
}
